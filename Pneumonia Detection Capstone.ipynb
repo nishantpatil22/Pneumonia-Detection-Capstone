{
 "cells": [
  {
   "cell_type": "code",
   "execution_count": 1,
   "metadata": {},
   "outputs": [],
   "source": [
    "import os\n",
    "os.getcwd()\n",
    "\n",
    "os.chdir('./rsna-pneumonia-detection-challenge/')"
   ]
  },
  {
   "cell_type": "code",
   "execution_count": 2,
   "metadata": {},
   "outputs": [
    {
     "name": "stderr",
     "output_type": "stream",
     "text": [
      "'ls' is not recognized as an internal or external command,\n",
      "operable program or batch file.\n"
     ]
    }
   ],
   "source": [
    "!ls"
   ]
  },
  {
   "cell_type": "code",
   "execution_count": 3,
   "metadata": {},
   "outputs": [],
   "source": [
    "# Extracting data and exploring"
   ]
  },
  {
   "cell_type": "code",
   "execution_count": 4,
   "metadata": {},
   "outputs": [],
   "source": [
    "import pydicom\n",
    "import os,pylab\n",
    "import numpy as np\n",
    "import pandas as pd\n",
    "from matplotlib import pyplot as plt\n",
    "import cv2\n",
    "import seaborn as sns\n",
    "from tqdm import tqdm\n"
   ]
  },
  {
   "cell_type": "code",
   "execution_count": 5,
   "metadata": {},
   "outputs": [],
   "source": [
    "labels = pd.read_csv('stage_2_detailed_class_info.csv')"
   ]
  },
  {
   "cell_type": "code",
   "execution_count": 6,
   "metadata": {},
   "outputs": [
    {
     "data": {
      "text/html": [
       "<div>\n",
       "<style scoped>\n",
       "    .dataframe tbody tr th:only-of-type {\n",
       "        vertical-align: middle;\n",
       "    }\n",
       "\n",
       "    .dataframe tbody tr th {\n",
       "        vertical-align: top;\n",
       "    }\n",
       "\n",
       "    .dataframe thead th {\n",
       "        text-align: right;\n",
       "    }\n",
       "</style>\n",
       "<table border=\"1\" class=\"dataframe\">\n",
       "  <thead>\n",
       "    <tr style=\"text-align: right;\">\n",
       "      <th></th>\n",
       "      <th>patientId</th>\n",
       "      <th>class</th>\n",
       "    </tr>\n",
       "  </thead>\n",
       "  <tbody>\n",
       "    <tr>\n",
       "      <th>0</th>\n",
       "      <td>0004cfab-14fd-4e49-80ba-63a80b6bddd6</td>\n",
       "      <td>No Lung Opacity / Not Normal</td>\n",
       "    </tr>\n",
       "    <tr>\n",
       "      <th>1</th>\n",
       "      <td>00313ee0-9eaa-42f4-b0ab-c148ed3241cd</td>\n",
       "      <td>No Lung Opacity / Not Normal</td>\n",
       "    </tr>\n",
       "    <tr>\n",
       "      <th>2</th>\n",
       "      <td>00322d4d-1c29-4943-afc9-b6754be640eb</td>\n",
       "      <td>No Lung Opacity / Not Normal</td>\n",
       "    </tr>\n",
       "    <tr>\n",
       "      <th>3</th>\n",
       "      <td>003d8fa0-6bf1-40ed-b54c-ac657f8495c5</td>\n",
       "      <td>Normal</td>\n",
       "    </tr>\n",
       "    <tr>\n",
       "      <th>4</th>\n",
       "      <td>00436515-870c-4b36-a041-de91049b9ab4</td>\n",
       "      <td>Lung Opacity</td>\n",
       "    </tr>\n",
       "    <tr>\n",
       "      <th>5</th>\n",
       "      <td>00436515-870c-4b36-a041-de91049b9ab4</td>\n",
       "      <td>Lung Opacity</td>\n",
       "    </tr>\n",
       "    <tr>\n",
       "      <th>6</th>\n",
       "      <td>00569f44-917d-4c86-a842-81832af98c30</td>\n",
       "      <td>No Lung Opacity / Not Normal</td>\n",
       "    </tr>\n",
       "  </tbody>\n",
       "</table>\n",
       "</div>"
      ],
      "text/plain": [
       "                              patientId                         class\n",
       "0  0004cfab-14fd-4e49-80ba-63a80b6bddd6  No Lung Opacity / Not Normal\n",
       "1  00313ee0-9eaa-42f4-b0ab-c148ed3241cd  No Lung Opacity / Not Normal\n",
       "2  00322d4d-1c29-4943-afc9-b6754be640eb  No Lung Opacity / Not Normal\n",
       "3  003d8fa0-6bf1-40ed-b54c-ac657f8495c5                        Normal\n",
       "4  00436515-870c-4b36-a041-de91049b9ab4                  Lung Opacity\n",
       "5  00436515-870c-4b36-a041-de91049b9ab4                  Lung Opacity\n",
       "6  00569f44-917d-4c86-a842-81832af98c30  No Lung Opacity / Not Normal"
      ]
     },
     "execution_count": 6,
     "metadata": {},
     "output_type": "execute_result"
    }
   ],
   "source": [
    "labels.head(7)"
   ]
  },
  {
   "cell_type": "code",
   "execution_count": 7,
   "metadata": {},
   "outputs": [
    {
     "data": {
      "text/plain": [
       "(26684, (30227, 2))"
      ]
     },
     "execution_count": 7,
     "metadata": {},
     "output_type": "execute_result"
    }
   ],
   "source": [
    "# NO OF UNIQUE PATIENTS\n",
    "labels['patientId'].nunique(),labels.shape"
   ]
  },
  {
   "cell_type": "code",
   "execution_count": 8,
   "metadata": {},
   "outputs": [
    {
     "data": {
      "text/html": [
       "<div>\n",
       "<style scoped>\n",
       "    .dataframe tbody tr th:only-of-type {\n",
       "        vertical-align: middle;\n",
       "    }\n",
       "\n",
       "    .dataframe tbody tr th {\n",
       "        vertical-align: top;\n",
       "    }\n",
       "\n",
       "    .dataframe thead th {\n",
       "        text-align: right;\n",
       "    }\n",
       "</style>\n",
       "<table border=\"1\" class=\"dataframe\">\n",
       "  <thead>\n",
       "    <tr style=\"text-align: right;\">\n",
       "      <th></th>\n",
       "      <th>patientId</th>\n",
       "    </tr>\n",
       "    <tr>\n",
       "      <th>class</th>\n",
       "      <th></th>\n",
       "    </tr>\n",
       "  </thead>\n",
       "  <tbody>\n",
       "    <tr>\n",
       "      <th>Lung Opacity</th>\n",
       "      <td>9555</td>\n",
       "    </tr>\n",
       "    <tr>\n",
       "      <th>No Lung Opacity / Not Normal</th>\n",
       "      <td>11821</td>\n",
       "    </tr>\n",
       "    <tr>\n",
       "      <th>Normal</th>\n",
       "      <td>8851</td>\n",
       "    </tr>\n",
       "  </tbody>\n",
       "</table>\n",
       "</div>"
      ],
      "text/plain": [
       "                              patientId\n",
       "class                                  \n",
       "Lung Opacity                       9555\n",
       "No Lung Opacity / Not Normal      11821\n",
       "Normal                             8851"
      ]
     },
     "execution_count": 8,
     "metadata": {},
     "output_type": "execute_result"
    }
   ],
   "source": [
    "labels.groupby('class').count()"
   ]
  },
  {
   "cell_type": "markdown",
   "metadata": {},
   "source": [
    "The labels show that their are 9555 patients with pneumonia , 11821 with other problems but not pneumonia and 8851 as normal"
   ]
  },
  {
   "cell_type": "code",
   "execution_count": 9,
   "metadata": {},
   "outputs": [],
   "source": [
    "train_labels=pd.read_csv('stage_2_train_labels.csv')"
   ]
  },
  {
   "cell_type": "code",
   "execution_count": 10,
   "metadata": {},
   "outputs": [
    {
     "data": {
      "text/html": [
       "<div>\n",
       "<style scoped>\n",
       "    .dataframe tbody tr th:only-of-type {\n",
       "        vertical-align: middle;\n",
       "    }\n",
       "\n",
       "    .dataframe tbody tr th {\n",
       "        vertical-align: top;\n",
       "    }\n",
       "\n",
       "    .dataframe thead th {\n",
       "        text-align: right;\n",
       "    }\n",
       "</style>\n",
       "<table border=\"1\" class=\"dataframe\">\n",
       "  <thead>\n",
       "    <tr style=\"text-align: right;\">\n",
       "      <th></th>\n",
       "      <th>patientId</th>\n",
       "      <th>x</th>\n",
       "      <th>y</th>\n",
       "      <th>width</th>\n",
       "      <th>height</th>\n",
       "      <th>Target</th>\n",
       "    </tr>\n",
       "  </thead>\n",
       "  <tbody>\n",
       "    <tr>\n",
       "      <th>0</th>\n",
       "      <td>0004cfab-14fd-4e49-80ba-63a80b6bddd6</td>\n",
       "      <td>NaN</td>\n",
       "      <td>NaN</td>\n",
       "      <td>NaN</td>\n",
       "      <td>NaN</td>\n",
       "      <td>0</td>\n",
       "    </tr>\n",
       "    <tr>\n",
       "      <th>1</th>\n",
       "      <td>00313ee0-9eaa-42f4-b0ab-c148ed3241cd</td>\n",
       "      <td>NaN</td>\n",
       "      <td>NaN</td>\n",
       "      <td>NaN</td>\n",
       "      <td>NaN</td>\n",
       "      <td>0</td>\n",
       "    </tr>\n",
       "    <tr>\n",
       "      <th>2</th>\n",
       "      <td>00322d4d-1c29-4943-afc9-b6754be640eb</td>\n",
       "      <td>NaN</td>\n",
       "      <td>NaN</td>\n",
       "      <td>NaN</td>\n",
       "      <td>NaN</td>\n",
       "      <td>0</td>\n",
       "    </tr>\n",
       "    <tr>\n",
       "      <th>3</th>\n",
       "      <td>003d8fa0-6bf1-40ed-b54c-ac657f8495c5</td>\n",
       "      <td>NaN</td>\n",
       "      <td>NaN</td>\n",
       "      <td>NaN</td>\n",
       "      <td>NaN</td>\n",
       "      <td>0</td>\n",
       "    </tr>\n",
       "    <tr>\n",
       "      <th>4</th>\n",
       "      <td>00436515-870c-4b36-a041-de91049b9ab4</td>\n",
       "      <td>264.0</td>\n",
       "      <td>152.0</td>\n",
       "      <td>213.0</td>\n",
       "      <td>379.0</td>\n",
       "      <td>1</td>\n",
       "    </tr>\n",
       "  </tbody>\n",
       "</table>\n",
       "</div>"
      ],
      "text/plain": [
       "                              patientId      x      y  width  height  Target\n",
       "0  0004cfab-14fd-4e49-80ba-63a80b6bddd6    NaN    NaN    NaN     NaN       0\n",
       "1  00313ee0-9eaa-42f4-b0ab-c148ed3241cd    NaN    NaN    NaN     NaN       0\n",
       "2  00322d4d-1c29-4943-afc9-b6754be640eb    NaN    NaN    NaN     NaN       0\n",
       "3  003d8fa0-6bf1-40ed-b54c-ac657f8495c5    NaN    NaN    NaN     NaN       0\n",
       "4  00436515-870c-4b36-a041-de91049b9ab4  264.0  152.0  213.0   379.0       1"
      ]
     },
     "execution_count": 10,
     "metadata": {},
     "output_type": "execute_result"
    }
   ],
   "source": [
    "train_labels.head()"
   ]
  },
  {
   "cell_type": "code",
   "execution_count": 11,
   "metadata": {},
   "outputs": [
    {
     "data": {
      "text/html": [
       "<div>\n",
       "<style scoped>\n",
       "    .dataframe tbody tr th:only-of-type {\n",
       "        vertical-align: middle;\n",
       "    }\n",
       "\n",
       "    .dataframe tbody tr th {\n",
       "        vertical-align: top;\n",
       "    }\n",
       "\n",
       "    .dataframe thead th {\n",
       "        text-align: right;\n",
       "    }\n",
       "</style>\n",
       "<table border=\"1\" class=\"dataframe\">\n",
       "  <thead>\n",
       "    <tr style=\"text-align: right;\">\n",
       "      <th></th>\n",
       "      <th>patientId</th>\n",
       "      <th>x</th>\n",
       "      <th>y</th>\n",
       "      <th>width</th>\n",
       "      <th>height</th>\n",
       "      <th>Target</th>\n",
       "    </tr>\n",
       "  </thead>\n",
       "  <tbody>\n",
       "    <tr>\n",
       "      <th>0</th>\n",
       "      <td>0004cfab-14fd-4e49-80ba-63a80b6bddd6</td>\n",
       "      <td>0.0</td>\n",
       "      <td>0.0</td>\n",
       "      <td>0.0</td>\n",
       "      <td>0.0</td>\n",
       "      <td>0</td>\n",
       "    </tr>\n",
       "    <tr>\n",
       "      <th>1</th>\n",
       "      <td>00313ee0-9eaa-42f4-b0ab-c148ed3241cd</td>\n",
       "      <td>0.0</td>\n",
       "      <td>0.0</td>\n",
       "      <td>0.0</td>\n",
       "      <td>0.0</td>\n",
       "      <td>0</td>\n",
       "    </tr>\n",
       "    <tr>\n",
       "      <th>2</th>\n",
       "      <td>00322d4d-1c29-4943-afc9-b6754be640eb</td>\n",
       "      <td>0.0</td>\n",
       "      <td>0.0</td>\n",
       "      <td>0.0</td>\n",
       "      <td>0.0</td>\n",
       "      <td>0</td>\n",
       "    </tr>\n",
       "    <tr>\n",
       "      <th>3</th>\n",
       "      <td>003d8fa0-6bf1-40ed-b54c-ac657f8495c5</td>\n",
       "      <td>0.0</td>\n",
       "      <td>0.0</td>\n",
       "      <td>0.0</td>\n",
       "      <td>0.0</td>\n",
       "      <td>0</td>\n",
       "    </tr>\n",
       "    <tr>\n",
       "      <th>4</th>\n",
       "      <td>00436515-870c-4b36-a041-de91049b9ab4</td>\n",
       "      <td>264.0</td>\n",
       "      <td>152.0</td>\n",
       "      <td>213.0</td>\n",
       "      <td>379.0</td>\n",
       "      <td>1</td>\n",
       "    </tr>\n",
       "  </tbody>\n",
       "</table>\n",
       "</div>"
      ],
      "text/plain": [
       "                              patientId      x      y  width  height  Target\n",
       "0  0004cfab-14fd-4e49-80ba-63a80b6bddd6    0.0    0.0    0.0     0.0       0\n",
       "1  00313ee0-9eaa-42f4-b0ab-c148ed3241cd    0.0    0.0    0.0     0.0       0\n",
       "2  00322d4d-1c29-4943-afc9-b6754be640eb    0.0    0.0    0.0     0.0       0\n",
       "3  003d8fa0-6bf1-40ed-b54c-ac657f8495c5    0.0    0.0    0.0     0.0       0\n",
       "4  00436515-870c-4b36-a041-de91049b9ab4  264.0  152.0  213.0   379.0       1"
      ]
     },
     "execution_count": 11,
     "metadata": {},
     "output_type": "execute_result"
    }
   ],
   "source": [
    "train_labels = train_labels.fillna(int(0))\n",
    "train_labels.head()"
   ]
  },
  {
   "cell_type": "code",
   "execution_count": 12,
   "metadata": {},
   "outputs": [
    {
     "data": {
      "text/html": [
       "<div>\n",
       "<style scoped>\n",
       "    .dataframe tbody tr th:only-of-type {\n",
       "        vertical-align: middle;\n",
       "    }\n",
       "\n",
       "    .dataframe tbody tr th {\n",
       "        vertical-align: top;\n",
       "    }\n",
       "\n",
       "    .dataframe thead th {\n",
       "        text-align: right;\n",
       "    }\n",
       "</style>\n",
       "<table border=\"1\" class=\"dataframe\">\n",
       "  <thead>\n",
       "    <tr style=\"text-align: right;\">\n",
       "      <th></th>\n",
       "      <th>patientId</th>\n",
       "      <th>x</th>\n",
       "      <th>y</th>\n",
       "      <th>width</th>\n",
       "      <th>height</th>\n",
       "    </tr>\n",
       "    <tr>\n",
       "      <th>Target</th>\n",
       "      <th></th>\n",
       "      <th></th>\n",
       "      <th></th>\n",
       "      <th></th>\n",
       "      <th></th>\n",
       "    </tr>\n",
       "  </thead>\n",
       "  <tbody>\n",
       "    <tr>\n",
       "      <th>0</th>\n",
       "      <td>20672</td>\n",
       "      <td>20672</td>\n",
       "      <td>20672</td>\n",
       "      <td>20672</td>\n",
       "      <td>20672</td>\n",
       "    </tr>\n",
       "    <tr>\n",
       "      <th>1</th>\n",
       "      <td>9555</td>\n",
       "      <td>9555</td>\n",
       "      <td>9555</td>\n",
       "      <td>9555</td>\n",
       "      <td>9555</td>\n",
       "    </tr>\n",
       "  </tbody>\n",
       "</table>\n",
       "</div>"
      ],
      "text/plain": [
       "        patientId      x      y  width  height\n",
       "Target                                        \n",
       "0           20672  20672  20672  20672   20672\n",
       "1            9555   9555   9555   9555    9555"
      ]
     },
     "execution_count": 12,
     "metadata": {},
     "output_type": "execute_result"
    }
   ],
   "source": [
    "train_labels.groupby('Target').count()"
   ]
  },
  {
   "cell_type": "markdown",
   "metadata": {},
   "source": [
    "Target 1 means pneumonia or Lung opacity for others it is zero"
   ]
  },
  {
   "cell_type": "code",
   "execution_count": 13,
   "metadata": {},
   "outputs": [
    {
     "data": {
      "text/plain": [
       "<matplotlib.axes._subplots.AxesSubplot at 0x207fa2ee4e0>"
      ]
     },
     "execution_count": 13,
     "metadata": {},
     "output_type": "execute_result"
    },
    {
     "data": {
      "image/png": "[encoded data removed]",
      "text/plain": [
       "<Figure size 432x288 with 1 Axes>"
      ]
     },
     "metadata": {
      "needs_background": "light"
     },
     "output_type": "display_data"
    }
   ],
   "source": [
    "sns.distplot(train_labels['Target'])"
   ]
  },
  {
   "cell_type": "code",
   "execution_count": 14,
   "metadata": {},
   "outputs": [],
   "source": [
    "train_data = pd.merge(left=train_labels,right=labels,on='patientId')"
   ]
  },
  {
   "cell_type": "code",
   "execution_count": 15,
   "metadata": {},
   "outputs": [
    {
     "data": {
      "text/html": [
       "<div>\n",
       "<style scoped>\n",
       "    .dataframe tbody tr th:only-of-type {\n",
       "        vertical-align: middle;\n",
       "    }\n",
       "\n",
       "    .dataframe tbody tr th {\n",
       "        vertical-align: top;\n",
       "    }\n",
       "\n",
       "    .dataframe thead th {\n",
       "        text-align: right;\n",
       "    }\n",
       "</style>\n",
       "<table border=\"1\" class=\"dataframe\">\n",
       "  <thead>\n",
       "    <tr style=\"text-align: right;\">\n",
       "      <th></th>\n",
       "      <th>patientId</th>\n",
       "      <th>x</th>\n",
       "      <th>y</th>\n",
       "      <th>width</th>\n",
       "      <th>height</th>\n",
       "      <th>Target</th>\n",
       "      <th>class</th>\n",
       "    </tr>\n",
       "  </thead>\n",
       "  <tbody>\n",
       "    <tr>\n",
       "      <th>0</th>\n",
       "      <td>0004cfab-14fd-4e49-80ba-63a80b6bddd6</td>\n",
       "      <td>0.0</td>\n",
       "      <td>0.0</td>\n",
       "      <td>0.0</td>\n",
       "      <td>0.0</td>\n",
       "      <td>0</td>\n",
       "      <td>No Lung Opacity / Not Normal</td>\n",
       "    </tr>\n",
       "    <tr>\n",
       "      <th>1</th>\n",
       "      <td>00313ee0-9eaa-42f4-b0ab-c148ed3241cd</td>\n",
       "      <td>0.0</td>\n",
       "      <td>0.0</td>\n",
       "      <td>0.0</td>\n",
       "      <td>0.0</td>\n",
       "      <td>0</td>\n",
       "      <td>No Lung Opacity / Not Normal</td>\n",
       "    </tr>\n",
       "    <tr>\n",
       "      <th>2</th>\n",
       "      <td>00322d4d-1c29-4943-afc9-b6754be640eb</td>\n",
       "      <td>0.0</td>\n",
       "      <td>0.0</td>\n",
       "      <td>0.0</td>\n",
       "      <td>0.0</td>\n",
       "      <td>0</td>\n",
       "      <td>No Lung Opacity / Not Normal</td>\n",
       "    </tr>\n",
       "    <tr>\n",
       "      <th>3</th>\n",
       "      <td>003d8fa0-6bf1-40ed-b54c-ac657f8495c5</td>\n",
       "      <td>0.0</td>\n",
       "      <td>0.0</td>\n",
       "      <td>0.0</td>\n",
       "      <td>0.0</td>\n",
       "      <td>0</td>\n",
       "      <td>Normal</td>\n",
       "    </tr>\n",
       "    <tr>\n",
       "      <th>4</th>\n",
       "      <td>00436515-870c-4b36-a041-de91049b9ab4</td>\n",
       "      <td>264.0</td>\n",
       "      <td>152.0</td>\n",
       "      <td>213.0</td>\n",
       "      <td>379.0</td>\n",
       "      <td>1</td>\n",
       "      <td>Lung Opacity</td>\n",
       "    </tr>\n",
       "  </tbody>\n",
       "</table>\n",
       "</div>"
      ],
      "text/plain": [
       "                              patientId      x      y  width  height  Target  \\\n",
       "0  0004cfab-14fd-4e49-80ba-63a80b6bddd6    0.0    0.0    0.0     0.0       0   \n",
       "1  00313ee0-9eaa-42f4-b0ab-c148ed3241cd    0.0    0.0    0.0     0.0       0   \n",
       "2  00322d4d-1c29-4943-afc9-b6754be640eb    0.0    0.0    0.0     0.0       0   \n",
       "3  003d8fa0-6bf1-40ed-b54c-ac657f8495c5    0.0    0.0    0.0     0.0       0   \n",
       "4  00436515-870c-4b36-a041-de91049b9ab4  264.0  152.0  213.0   379.0       1   \n",
       "\n",
       "                          class  \n",
       "0  No Lung Opacity / Not Normal  \n",
       "1  No Lung Opacity / Not Normal  \n",
       "2  No Lung Opacity / Not Normal  \n",
       "3                        Normal  \n",
       "4                  Lung Opacity  "
      ]
     },
     "execution_count": 15,
     "metadata": {},
     "output_type": "execute_result"
    }
   ],
   "source": [
    "train_data.head()"
   ]
  },
  {
   "cell_type": "code",
   "execution_count": 16,
   "metadata": {},
   "outputs": [
    {
     "data": {
      "text/html": [
       "<div>\n",
       "<style scoped>\n",
       "    .dataframe tbody tr th:only-of-type {\n",
       "        vertical-align: middle;\n",
       "    }\n",
       "\n",
       "    .dataframe tbody tr th {\n",
       "        vertical-align: top;\n",
       "    }\n",
       "\n",
       "    .dataframe thead th {\n",
       "        text-align: right;\n",
       "    }\n",
       "</style>\n",
       "<table border=\"1\" class=\"dataframe\">\n",
       "  <thead>\n",
       "    <tr style=\"text-align: right;\">\n",
       "      <th></th>\n",
       "      <th>x</th>\n",
       "      <th>y</th>\n",
       "      <th>width</th>\n",
       "      <th>height</th>\n",
       "      <th>Target</th>\n",
       "    </tr>\n",
       "  </thead>\n",
       "  <tbody>\n",
       "    <tr>\n",
       "      <th>count</th>\n",
       "      <td>37629.000000</td>\n",
       "      <td>37629.000000</td>\n",
       "      <td>37629.000000</td>\n",
       "      <td>37629.000000</td>\n",
       "      <td>37629.000000</td>\n",
       "    </tr>\n",
       "    <tr>\n",
       "      <th>mean</th>\n",
       "      <td>179.794945</td>\n",
       "      <td>162.428818</td>\n",
       "      <td>98.809562</td>\n",
       "      <td>152.224800</td>\n",
       "      <td>0.450636</td>\n",
       "    </tr>\n",
       "    <tr>\n",
       "      <th>std</th>\n",
       "      <td>241.500880</td>\n",
       "      <td>205.415528</td>\n",
       "      <td>116.110490</td>\n",
       "      <td>199.098279</td>\n",
       "      <td>0.497564</td>\n",
       "    </tr>\n",
       "    <tr>\n",
       "      <th>min</th>\n",
       "      <td>0.000000</td>\n",
       "      <td>0.000000</td>\n",
       "      <td>0.000000</td>\n",
       "      <td>0.000000</td>\n",
       "      <td>0.000000</td>\n",
       "    </tr>\n",
       "    <tr>\n",
       "      <th>25%</th>\n",
       "      <td>0.000000</td>\n",
       "      <td>0.000000</td>\n",
       "      <td>0.000000</td>\n",
       "      <td>0.000000</td>\n",
       "      <td>0.000000</td>\n",
       "    </tr>\n",
       "    <tr>\n",
       "      <th>50%</th>\n",
       "      <td>0.000000</td>\n",
       "      <td>0.000000</td>\n",
       "      <td>0.000000</td>\n",
       "      <td>0.000000</td>\n",
       "      <td>0.000000</td>\n",
       "    </tr>\n",
       "    <tr>\n",
       "      <th>75%</th>\n",
       "      <td>290.000000</td>\n",
       "      <td>327.000000</td>\n",
       "      <td>210.000000</td>\n",
       "      <td>285.000000</td>\n",
       "      <td>1.000000</td>\n",
       "    </tr>\n",
       "    <tr>\n",
       "      <th>max</th>\n",
       "      <td>835.000000</td>\n",
       "      <td>881.000000</td>\n",
       "      <td>528.000000</td>\n",
       "      <td>942.000000</td>\n",
       "      <td>1.000000</td>\n",
       "    </tr>\n",
       "  </tbody>\n",
       "</table>\n",
       "</div>"
      ],
      "text/plain": [
       "                  x             y         width        height        Target\n",
       "count  37629.000000  37629.000000  37629.000000  37629.000000  37629.000000\n",
       "mean     179.794945    162.428818     98.809562    152.224800      0.450636\n",
       "std      241.500880    205.415528    116.110490    199.098279      0.497564\n",
       "min        0.000000      0.000000      0.000000      0.000000      0.000000\n",
       "25%        0.000000      0.000000      0.000000      0.000000      0.000000\n",
       "50%        0.000000      0.000000      0.000000      0.000000      0.000000\n",
       "75%      290.000000    327.000000    210.000000    285.000000      1.000000\n",
       "max      835.000000    881.000000    528.000000    942.000000      1.000000"
      ]
     },
     "execution_count": 16,
     "metadata": {},
     "output_type": "execute_result"
    }
   ],
   "source": [
    "train_data.describe()"
   ]
  },
  {
   "cell_type": "code",
   "execution_count": 17,
   "metadata": {},
   "outputs": [
    {
     "data": {
      "text/html": [
       "<div>\n",
       "<style scoped>\n",
       "    .dataframe tbody tr th:only-of-type {\n",
       "        vertical-align: middle;\n",
       "    }\n",
       "\n",
       "    .dataframe tbody tr th {\n",
       "        vertical-align: top;\n",
       "    }\n",
       "\n",
       "    .dataframe thead th {\n",
       "        text-align: right;\n",
       "    }\n",
       "</style>\n",
       "<table border=\"1\" class=\"dataframe\">\n",
       "  <thead>\n",
       "    <tr style=\"text-align: right;\">\n",
       "      <th></th>\n",
       "      <th>patientId</th>\n",
       "      <th>x</th>\n",
       "      <th>y</th>\n",
       "      <th>width</th>\n",
       "      <th>height</th>\n",
       "      <th>Target</th>\n",
       "    </tr>\n",
       "    <tr>\n",
       "      <th>class</th>\n",
       "      <th></th>\n",
       "      <th></th>\n",
       "      <th></th>\n",
       "      <th></th>\n",
       "      <th></th>\n",
       "      <th></th>\n",
       "    </tr>\n",
       "  </thead>\n",
       "  <tbody>\n",
       "    <tr>\n",
       "      <th>Lung Opacity</th>\n",
       "      <td>16957</td>\n",
       "      <td>16957</td>\n",
       "      <td>16957</td>\n",
       "      <td>16957</td>\n",
       "      <td>16957</td>\n",
       "      <td>16957</td>\n",
       "    </tr>\n",
       "    <tr>\n",
       "      <th>No Lung Opacity / Not Normal</th>\n",
       "      <td>11821</td>\n",
       "      <td>11821</td>\n",
       "      <td>11821</td>\n",
       "      <td>11821</td>\n",
       "      <td>11821</td>\n",
       "      <td>11821</td>\n",
       "    </tr>\n",
       "    <tr>\n",
       "      <th>Normal</th>\n",
       "      <td>8851</td>\n",
       "      <td>8851</td>\n",
       "      <td>8851</td>\n",
       "      <td>8851</td>\n",
       "      <td>8851</td>\n",
       "      <td>8851</td>\n",
       "    </tr>\n",
       "  </tbody>\n",
       "</table>\n",
       "</div>"
      ],
      "text/plain": [
       "                              patientId      x      y  width  height  Target\n",
       "class                                                                       \n",
       "Lung Opacity                      16957  16957  16957  16957   16957   16957\n",
       "No Lung Opacity / Not Normal      11821  11821  11821  11821   11821   11821\n",
       "Normal                             8851   8851   8851   8851    8851    8851"
      ]
     },
     "execution_count": 17,
     "metadata": {},
     "output_type": "execute_result"
    }
   ],
   "source": [
    "train_data.groupby('class').count()"
   ]
  },
  {
   "cell_type": "code",
   "execution_count": 18,
   "metadata": {},
   "outputs": [
    {
     "data": {
      "text/plain": [
       "<matplotlib.axes._subplots.AxesSubplot at 0x207faa4de80>"
      ]
     },
     "execution_count": 18,
     "metadata": {},
     "output_type": "execute_result"
    },
    {
     "data": {
      "image/png": "[encoded data removed]",
      "text/plain": [
       "<Figure size 432x288 with 1 Axes>"
      ]
     },
     "metadata": {
      "needs_background": "light"
     },
     "output_type": "display_data"
    }
   ],
   "source": [
    "sns.distplot(train_data['Target'],rug=True)"
   ]
  },
  {
   "cell_type": "code",
   "execution_count": 19,
   "metadata": {},
   "outputs": [
    {
     "data": {
      "text/plain": [
       "<matplotlib.axes._subplots.AxesSubplot at 0x7ff1420e7ad0>"
      ]
     },
     "execution_count": 19,
     "metadata": {},
     "output_type": "execute_result"
    },
    {
     "data": {
      "image/png": "[encoded data removed]",
      "text/plain": [
       "<Figure size 432x288 with 1 Axes>"
      ]
     },
     "metadata": {
      "needs_background": "light"
     },
     "output_type": "display_data"
    }
   ],
   "source": [
    "sns.countplot(train_data['class'])"
   ]
  },
  {
   "cell_type": "code",
   "execution_count": 20,
   "metadata": {},
   "outputs": [
    {
     "data": {
      "text/plain": [
       "<matplotlib.axes._subplots.AxesSubplot at 0x7ff142043710>"
      ]
     },
     "execution_count": 20,
     "metadata": {},
     "output_type": "execute_result"
    },
    {
     "data": {
      "image/png": "[encoded data removed]",
      "text/plain": [
       "<Figure size 432x288 with 1 Axes>"
      ]
     },
     "metadata": {
      "needs_background": "light"
     },
     "output_type": "display_data"
    }
   ],
   "source": [
    "sns.countplot(train_data['Target'],hue=train_data['class'])"
   ]
  },
  {
   "cell_type": "markdown",
   "metadata": {},
   "source": [
    "Lets look at the X-ray images one for target value 0 and one for target value 1\n",
    "from train_labels.head() abve the 0 and 4th images we will see"
   ]
  },
  {
   "cell_type": "code",
   "execution_count": 19,
   "metadata": {},
   "outputs": [
    {
     "name": "stdout",
     "output_type": "stream",
     "text": [
      "\n",
      "Filename.........: ./stage_2_train_images/0004cfab-14fd-4e49-80ba-63a80b6bddd6.dcm\n",
      "Patient id.......: 0004cfab-14fd-4e49-80ba-63a80b6bddd6\n",
      "(1024, 1024)\n"
     ]
    },
    {
     "data": {
      "text/plain": [
       "(-0.5, 1023.5, 1023.5, -0.5)"
      ]
     },
     "execution_count": 19,
     "metadata": {},
     "output_type": "execute_result"
    },
    {
     "data": {
      "image/png": "[encoded data removed]",
      "text/plain": [
       "<Figure size 432x288 with 1 Axes>"
      ]
     },
     "metadata": {
      "needs_background": "light"
     },
     "output_type": "display_data"
    }
   ],
   "source": [
    "file = train_labels['patientId'][0]+'.dcm'\n",
    "path = os.path.join('./stage_2_train_images/',file)\n",
    "image = pydicom.dcmread(path)\n",
    "print()\n",
    "print(\"Filename.........:\", path)\n",
    "#print(\"class:\",image.class)\n",
    "\n",
    "print(\"Patient id.......:\", image.PatientID)\n",
    "img = image.pixel_array\n",
    "print(img.shape)\n",
    "pylab.imshow(img, cmap=pylab.cm.gist_gray)\n",
    "pylab.axis('off')\n"
   ]
  },
  {
   "cell_type": "code",
   "execution_count": 20,
   "metadata": {},
   "outputs": [
    {
     "name": "stdout",
     "output_type": "stream",
     "text": [
      "\n",
      "Filename.........: ./stage_2_train_images/00436515-870c-4b36-a041-de91049b9ab4.dcm\n",
      "Patient id.......: 00436515-870c-4b36-a041-de91049b9ab4\n"
     ]
    },
    {
     "data": {
      "text/plain": [
       "(-0.5, 1023.5, 1023.5, -0.5)"
      ]
     },
     "execution_count": 20,
     "metadata": {},
     "output_type": "execute_result"
    },
    {
     "data": {
      "image/png": "[encoded data removed]",
      "text/plain": [
       "<Figure size 432x288 with 1 Axes>"
      ]
     },
     "metadata": {
      "needs_background": "light"
     },
     "output_type": "display_data"
    }
   ],
   "source": [
    "file = train_labels['patientId'][4]+'.dcm'\n",
    "path = os.path.join('./stage_2_train_images/',file)\n",
    "image = pydicom.dcmread(path)\n",
    "print()\n",
    "print(\"Filename.........:\", path)\n",
    "\n",
    "\n",
    "print(\"Patient id.......:\", image.PatientID)\n",
    "\n",
    "img = image.pixel_array\n",
    "pylab.imshow(img, cmap=pylab.cm.gist_gray)\n",
    "pylab.axis('off')\n"
   ]
  },
  {
   "cell_type": "code",
   "execution_count": 21,
   "metadata": {},
   "outputs": [],
   "source": [
    "def parse_data(df):\n",
    "    \"\"\"\n",
    "    Method to read a CSV file (Pandas dataframe) and parse the \n",
    "    data into the following nested dictionary:\n",
    "\n",
    "      parsed = {\n",
    "        \n",
    "        'patientId-00': {\n",
    "            'dicom': path/to/dicom/file,\n",
    "            'label': either 0 or 1 for normal or pnuemonia, \n",
    "            'boxes': list of box(es)\n",
    "        },\n",
    "        'patientId-01': {\n",
    "            'dicom': path/to/dicom/file,\n",
    "            'label': either 0 or 1 for normal or pnuemonia, \n",
    "            'boxes': list of box(es)\n",
    "        }, ...\n",
    "\n",
    "      }\n",
    "\n",
    "    \"\"\"\n",
    "    # --- Define lambda to extract coords in list [y, x, height, width]\n",
    "    extract_box = lambda row: [row['y'], row['x'], row['height'], row['width']]\n",
    "\n",
    "    parsed = {}\n",
    "    for n, row in df.iterrows():\n",
    "        # --- Initialize patient entry into parsed \n",
    "        pid = row['patientId']\n",
    "        if pid not in parsed:\n",
    "            parsed[pid] = {\n",
    "                'dicom': './stage_2_train_images/%s.dcm' % pid,\n",
    "                'label': row['Target'],\n",
    "                'boxes': [],\n",
    "                'class': row['class']}\n",
    "\n",
    "        # --- Add box if opacity is present\n",
    "        if parsed[pid]['label'] == 1:\n",
    "            parsed[pid]['boxes'].append(extract_box(row))\n",
    "        \n",
    "    return parsed"
   ]
  },
  {
   "cell_type": "code",
   "execution_count": 22,
   "metadata": {},
   "outputs": [],
   "source": [
    "parsed = parse_data(train_data)"
   ]
  },
  {
   "cell_type": "code",
   "execution_count": 23,
   "metadata": {},
   "outputs": [],
   "source": [
    "df_parsed = pd.DataFrame(parsed)"
   ]
  },
  {
   "cell_type": "code",
   "execution_count": 24,
   "metadata": {},
   "outputs": [
    {
     "data": {
      "text/html": [
       "<div>\n",
       "<style scoped>\n",
       "    .dataframe tbody tr th:only-of-type {\n",
       "        vertical-align: middle;\n",
       "    }\n",
       "\n",
       "    .dataframe tbody tr th {\n",
       "        vertical-align: top;\n",
       "    }\n",
       "\n",
       "    .dataframe thead th {\n",
       "        text-align: right;\n",
       "    }\n",
       "</style>\n",
       "<table border=\"1\" class=\"dataframe\">\n",
       "  <thead>\n",
       "    <tr style=\"text-align: right;\">\n",
       "      <th></th>\n",
       "      <th>boxes</th>\n",
       "      <th>class</th>\n",
       "      <th>dicom</th>\n",
       "      <th>label</th>\n",
       "    </tr>\n",
       "  </thead>\n",
       "  <tbody>\n",
       "    <tr>\n",
       "      <th>0004cfab-14fd-4e49-80ba-63a80b6bddd6</th>\n",
       "      <td>[]</td>\n",
       "      <td>No Lung Opacity / Not Normal</td>\n",
       "      <td>./stage_2_train_images/0004cfab-14fd-4e49-80ba...</td>\n",
       "      <td>0</td>\n",
       "    </tr>\n",
       "    <tr>\n",
       "      <th>00313ee0-9eaa-42f4-b0ab-c148ed3241cd</th>\n",
       "      <td>[]</td>\n",
       "      <td>No Lung Opacity / Not Normal</td>\n",
       "      <td>./stage_2_train_images/00313ee0-9eaa-42f4-b0ab...</td>\n",
       "      <td>0</td>\n",
       "    </tr>\n",
       "    <tr>\n",
       "      <th>00322d4d-1c29-4943-afc9-b6754be640eb</th>\n",
       "      <td>[]</td>\n",
       "      <td>No Lung Opacity / Not Normal</td>\n",
       "      <td>./stage_2_train_images/00322d4d-1c29-4943-afc9...</td>\n",
       "      <td>0</td>\n",
       "    </tr>\n",
       "    <tr>\n",
       "      <th>003d8fa0-6bf1-40ed-b54c-ac657f8495c5</th>\n",
       "      <td>[]</td>\n",
       "      <td>Normal</td>\n",
       "      <td>./stage_2_train_images/003d8fa0-6bf1-40ed-b54c...</td>\n",
       "      <td>0</td>\n",
       "    </tr>\n",
       "    <tr>\n",
       "      <th>00436515-870c-4b36-a041-de91049b9ab4</th>\n",
       "      <td>[[152.0, 264.0, 379.0, 213.0], [152.0, 264.0, ...</td>\n",
       "      <td>Lung Opacity</td>\n",
       "      <td>./stage_2_train_images/00436515-870c-4b36-a041...</td>\n",
       "      <td>1</td>\n",
       "    </tr>\n",
       "  </tbody>\n",
       "</table>\n",
       "</div>"
      ],
      "text/plain": [
       "                                                                                  boxes  \\\n",
       "0004cfab-14fd-4e49-80ba-63a80b6bddd6                                                 []   \n",
       "00313ee0-9eaa-42f4-b0ab-c148ed3241cd                                                 []   \n",
       "00322d4d-1c29-4943-afc9-b6754be640eb                                                 []   \n",
       "003d8fa0-6bf1-40ed-b54c-ac657f8495c5                                                 []   \n",
       "00436515-870c-4b36-a041-de91049b9ab4  [[152.0, 264.0, 379.0, 213.0], [152.0, 264.0, ...   \n",
       "\n",
       "                                                             class  \\\n",
       "0004cfab-14fd-4e49-80ba-63a80b6bddd6  No Lung Opacity / Not Normal   \n",
       "00313ee0-9eaa-42f4-b0ab-c148ed3241cd  No Lung Opacity / Not Normal   \n",
       "00322d4d-1c29-4943-afc9-b6754be640eb  No Lung Opacity / Not Normal   \n",
       "003d8fa0-6bf1-40ed-b54c-ac657f8495c5                        Normal   \n",
       "00436515-870c-4b36-a041-de91049b9ab4                  Lung Opacity   \n",
       "\n",
       "                                                                                  dicom  \\\n",
       "0004cfab-14fd-4e49-80ba-63a80b6bddd6  ./stage_2_train_images/0004cfab-14fd-4e49-80ba...   \n",
       "00313ee0-9eaa-42f4-b0ab-c148ed3241cd  ./stage_2_train_images/00313ee0-9eaa-42f4-b0ab...   \n",
       "00322d4d-1c29-4943-afc9-b6754be640eb  ./stage_2_train_images/00322d4d-1c29-4943-afc9...   \n",
       "003d8fa0-6bf1-40ed-b54c-ac657f8495c5  ./stage_2_train_images/003d8fa0-6bf1-40ed-b54c...   \n",
       "00436515-870c-4b36-a041-de91049b9ab4  ./stage_2_train_images/00436515-870c-4b36-a041...   \n",
       "\n",
       "                                     label  \n",
       "0004cfab-14fd-4e49-80ba-63a80b6bddd6     0  \n",
       "00313ee0-9eaa-42f4-b0ab-c148ed3241cd     0  \n",
       "00322d4d-1c29-4943-afc9-b6754be640eb     0  \n",
       "003d8fa0-6bf1-40ed-b54c-ac657f8495c5     0  \n",
       "00436515-870c-4b36-a041-de91049b9ab4     1  "
      ]
     },
     "execution_count": 24,
     "metadata": {},
     "output_type": "execute_result"
    }
   ],
   "source": [
    "df_final = df_parsed.T\n",
    "df_final.head()"
   ]
  },
  {
   "cell_type": "code",
   "execution_count": 25,
   "metadata": {},
   "outputs": [
    {
     "data": {
      "text/plain": [
       "(26684, 4)"
      ]
     },
     "execution_count": 25,
     "metadata": {},
     "output_type": "execute_result"
    }
   ],
   "source": [
    "df_final.shape"
   ]
  },
  {
   "cell_type": "code",
   "execution_count": 26,
   "metadata": {},
   "outputs": [
    {
     "data": {
      "text/html": [
       "<div>\n",
       "<style scoped>\n",
       "    .dataframe tbody tr th:only-of-type {\n",
       "        vertical-align: middle;\n",
       "    }\n",
       "\n",
       "    .dataframe tbody tr th {\n",
       "        vertical-align: top;\n",
       "    }\n",
       "\n",
       "    .dataframe thead th {\n",
       "        text-align: right;\n",
       "    }\n",
       "</style>\n",
       "<table border=\"1\" class=\"dataframe\">\n",
       "  <thead>\n",
       "    <tr style=\"text-align: right;\">\n",
       "      <th></th>\n",
       "      <th>boxes</th>\n",
       "      <th>dicom</th>\n",
       "      <th>label</th>\n",
       "    </tr>\n",
       "    <tr>\n",
       "      <th>class</th>\n",
       "      <th></th>\n",
       "      <th></th>\n",
       "      <th></th>\n",
       "    </tr>\n",
       "  </thead>\n",
       "  <tbody>\n",
       "    <tr>\n",
       "      <th>Lung Opacity</th>\n",
       "      <td>6012</td>\n",
       "      <td>6012</td>\n",
       "      <td>6012</td>\n",
       "    </tr>\n",
       "    <tr>\n",
       "      <th>No Lung Opacity / Not Normal</th>\n",
       "      <td>11821</td>\n",
       "      <td>11821</td>\n",
       "      <td>11821</td>\n",
       "    </tr>\n",
       "    <tr>\n",
       "      <th>Normal</th>\n",
       "      <td>8851</td>\n",
       "      <td>8851</td>\n",
       "      <td>8851</td>\n",
       "    </tr>\n",
       "  </tbody>\n",
       "</table>\n",
       "</div>"
      ],
      "text/plain": [
       "                              boxes  dicom  label\n",
       "class                                            \n",
       "Lung Opacity                   6012   6012   6012\n",
       "No Lung Opacity / Not Normal  11821  11821  11821\n",
       "Normal                         8851   8851   8851"
      ]
     },
     "execution_count": 26,
     "metadata": {},
     "output_type": "execute_result"
    }
   ],
   "source": [
    "df_final.groupby('class').count()"
   ]
  },
  {
   "cell_type": "code",
   "execution_count": 38,
   "metadata": {},
   "outputs": [
    {
     "data": {
      "text/plain": [
       "<matplotlib.axes._subplots.AxesSubplot at 0x7ff140946dd0>"
      ]
     },
     "execution_count": 38,
     "metadata": {},
     "output_type": "execute_result"
    },
    {
     "data": {
      "image/png": "[encoded data removed]",
      "text/plain": [
       "<Figure size 432x288 with 1 Axes>"
      ]
     },
     "metadata": {
      "needs_background": "light"
     },
     "output_type": "display_data"
    }
   ],
   "source": [
    "sns.countplot(df_final['class'])"
   ]
  },
  {
   "cell_type": "code",
   "execution_count": 36,
   "metadata": {},
   "outputs": [],
   "source": [
    "if not os.path.exists('./train_img1_jpg/'):\n",
    "    os.mkdir('./train_img1_jpg/')\n",
    "    jpg_path = './train_img1_jpg/'\n",
    "    for i in range(len(df_final['dicom'])):\n",
    "        ds = pydicom.read_file(df_final['dicom'][i])\n",
    "        img = ds.pixel_array # get image array\n",
    "        cv2.imwrite(jpg_path + df_final['dicom'][i].split('/')[2].replace('.dcm','.jpg'),img) # write jpg image\n"
   ]
  },
  {
   "cell_type": "code",
   "execution_count": 28,
   "metadata": {},
   "outputs": [
    {
     "data": {
      "text/plain": [
       "(-0.5, 1023.5, 1023.5, -0.5)"
      ]
     },
     "execution_count": 28,
     "metadata": {},
     "output_type": "execute_result"
    },
    {
     "data": {
      "image/png": "[encoded data removed]",
      "text/plain": [
       "<Figure size 432x288 with 1 Axes>"
      ]
     },
     "metadata": {
      "needs_background": "light"
     },
     "output_type": "display_data"
    }
   ],
   "source": [
    "ds = pydicom.read_file(df_final['dicom'][4])\n",
    "img = ds.pixel_array\n",
    "pylab.imshow(img, cmap=pylab.cm.gist_gray)\n",
    "pylab.axis('off')"
   ]
  },
  {
   "cell_type": "code",
   "execution_count": null,
   "metadata": {},
   "outputs": [],
   "source": [
    "'''\n",
    "import os\n",
    "path = os.listdir('./train_img1_jpg/')\n",
    "file = path[4]\n",
    "img = cv2.imread('./train_img1_jpg/'+df_final['dicom'][4].split('/')[2].split('.')[0]+'.jpg',0)\n",
    "scale_percent = 50 # percent of original size\n",
    "width = int(img.shape[1] * scale_percent / 100)\n",
    "height = int(img.shape[0] * scale_percent / 100)\n",
    "dim = (width, height) \n",
    "img = cv2.resize(img, dim, interpolation = cv2.INTER_AREA) \n",
    "cv2.imshow('image',img)\n",
    "cv2.waitKey(0)\n",
    "v2.destroyAllWindows() \n",
    "'''"
   ]
  },
  {
   "cell_type": "code",
   "execution_count": 37,
   "metadata": {},
   "outputs": [],
   "source": [
    "path = os.listdir('./train_img1_jpg/')\n",
    "lst = []\n",
    "for i in range(len(path)):\n",
    "    lst.append(path[i].split('.')[0])"
   ]
  },
  {
   "cell_type": "code",
   "execution_count": 39,
   "metadata": {},
   "outputs": [],
   "source": [
    "df_train = df_final.reindex(lst,columns=['dicom','boxes','class','label'])\n"
   ]
  },
  {
   "cell_type": "code",
   "execution_count": 40,
   "metadata": {},
   "outputs": [
    {
     "data": {
      "text/html": [
       "<div>\n",
       "<style scoped>\n",
       "    .dataframe tbody tr th:only-of-type {\n",
       "        vertical-align: middle;\n",
       "    }\n",
       "\n",
       "    .dataframe tbody tr th {\n",
       "        vertical-align: top;\n",
       "    }\n",
       "\n",
       "    .dataframe thead th {\n",
       "        text-align: right;\n",
       "    }\n",
       "</style>\n",
       "<table border=\"1\" class=\"dataframe\">\n",
       "  <thead>\n",
       "    <tr style=\"text-align: right;\">\n",
       "      <th></th>\n",
       "      <th>dicom</th>\n",
       "      <th>boxes</th>\n",
       "      <th>class</th>\n",
       "      <th>label</th>\n",
       "    </tr>\n",
       "  </thead>\n",
       "  <tbody>\n",
       "    <tr>\n",
       "      <th>0004cfab-14fd-4e49-80ba-63a80b6bddd6</th>\n",
       "      <td>./stage_2_train_images/0004cfab-14fd-4e49-80ba...</td>\n",
       "      <td>[]</td>\n",
       "      <td>No Lung Opacity / Not Normal</td>\n",
       "      <td>0</td>\n",
       "    </tr>\n",
       "    <tr>\n",
       "      <th>000924cf-0f8d-42bd-9158-1af53881a557</th>\n",
       "      <td>./stage_2_train_images/000924cf-0f8d-42bd-9158...</td>\n",
       "      <td>[]</td>\n",
       "      <td>Normal</td>\n",
       "      <td>0</td>\n",
       "    </tr>\n",
       "    <tr>\n",
       "      <th>000db696-cf54-4385-b10b-6b16fbb3f985</th>\n",
       "      <td>./stage_2_train_images/000db696-cf54-4385-b10b...</td>\n",
       "      <td>[[318.0, 316.0, 478.0, 170.0], [318.0, 316.0, ...</td>\n",
       "      <td>Lung Opacity</td>\n",
       "      <td>1</td>\n",
       "    </tr>\n",
       "    <tr>\n",
       "      <th>000fe35a-2649-43d4-b027-e67796d412e0</th>\n",
       "      <td>./stage_2_train_images/000fe35a-2649-43d4-b027...</td>\n",
       "      <td>[[282.0, 570.0, 409.0, 269.0], [282.0, 570.0, ...</td>\n",
       "      <td>Lung Opacity</td>\n",
       "      <td>1</td>\n",
       "    </tr>\n",
       "    <tr>\n",
       "      <th>001031d9-f904-4a23-b3e5-2c088acd19c6</th>\n",
       "      <td>./stage_2_train_images/001031d9-f904-4a23-b3e5...</td>\n",
       "      <td>[[160.0, 66.0, 608.0, 373.0], [160.0, 66.0, 60...</td>\n",
       "      <td>Lung Opacity</td>\n",
       "      <td>1</td>\n",
       "    </tr>\n",
       "    <tr>\n",
       "      <th>0010f549-b242-4e94-87a8-57d79de215fc</th>\n",
       "      <td>./stage_2_train_images/0010f549-b242-4e94-87a8...</td>\n",
       "      <td>[]</td>\n",
       "      <td>Normal</td>\n",
       "      <td>0</td>\n",
       "    </tr>\n",
       "    <tr>\n",
       "      <th>001916b8-3d30-4935-a5d1-8eaddb1646cd</th>\n",
       "      <td>./stage_2_train_images/001916b8-3d30-4935-a5d1...</td>\n",
       "      <td>[[375.0, 198.0, 206.0, 114.0]]</td>\n",
       "      <td>Lung Opacity</td>\n",
       "      <td>1</td>\n",
       "    </tr>\n",
       "    <tr>\n",
       "      <th>0022073f-cec8-42ec-ab5f-bc2314649235</th>\n",
       "      <td>./stage_2_train_images/0022073f-cec8-42ec-ab5f...</td>\n",
       "      <td>[[232.0, 575.0, 528.0, 246.0], [232.0, 575.0, ...</td>\n",
       "      <td>Lung Opacity</td>\n",
       "      <td>1</td>\n",
       "    </tr>\n",
       "    <tr>\n",
       "      <th>0022995a-45eb-4cfa-9a59-cd15f5196c64</th>\n",
       "      <td>./stage_2_train_images/0022995a-45eb-4cfa-9a59...</td>\n",
       "      <td>[]</td>\n",
       "      <td>Normal</td>\n",
       "      <td>0</td>\n",
       "    </tr>\n",
       "    <tr>\n",
       "      <th>0025d2de-bd78-4d36-9f72-e15a5e22ca82</th>\n",
       "      <td>./stage_2_train_images/0025d2de-bd78-4d36-9f72...</td>\n",
       "      <td>[]</td>\n",
       "      <td>Normal</td>\n",
       "      <td>0</td>\n",
       "    </tr>\n",
       "    <tr>\n",
       "      <th>00293de0-a530-41dc-9621-0b3def01d06d</th>\n",
       "      <td>./stage_2_train_images/00293de0-a530-41dc-9621...</td>\n",
       "      <td>[]</td>\n",
       "      <td>Normal</td>\n",
       "      <td>0</td>\n",
       "    </tr>\n",
       "    <tr>\n",
       "      <th>002c591d-df62-4e34-8eda-838c664430a9</th>\n",
       "      <td>./stage_2_train_images/002c591d-df62-4e34-8eda...</td>\n",
       "      <td>[]</td>\n",
       "      <td>Normal</td>\n",
       "      <td>0</td>\n",
       "    </tr>\n",
       "    <tr>\n",
       "      <th>002cb550-2e31-42f1-a29d-fbc279977e71</th>\n",
       "      <td>./stage_2_train_images/002cb550-2e31-42f1-a29d...</td>\n",
       "      <td>[[342.0, 176.0, 239.0, 170.0], [342.0, 176.0, ...</td>\n",
       "      <td>Lung Opacity</td>\n",
       "      <td>1</td>\n",
       "    </tr>\n",
       "    <tr>\n",
       "      <th>00313ee0-9eaa-42f4-b0ab-c148ed3241cd</th>\n",
       "      <td>./stage_2_train_images/00313ee0-9eaa-42f4-b0ab...</td>\n",
       "      <td>[]</td>\n",
       "      <td>No Lung Opacity / Not Normal</td>\n",
       "      <td>0</td>\n",
       "    </tr>\n",
       "    <tr>\n",
       "      <th>00322d4d-1c29-4943-afc9-b6754be640eb</th>\n",
       "      <td>./stage_2_train_images/00322d4d-1c29-4943-afc9...</td>\n",
       "      <td>[]</td>\n",
       "      <td>No Lung Opacity / Not Normal</td>\n",
       "      <td>0</td>\n",
       "    </tr>\n",
       "    <tr>\n",
       "      <th>003d8fa0-6bf1-40ed-b54c-ac657f8495c5</th>\n",
       "      <td>./stage_2_train_images/003d8fa0-6bf1-40ed-b54c...</td>\n",
       "      <td>[]</td>\n",
       "      <td>Normal</td>\n",
       "      <td>0</td>\n",
       "    </tr>\n",
       "    <tr>\n",
       "      <th>00436515-870c-4b36-a041-de91049b9ab4</th>\n",
       "      <td>./stage_2_train_images/00436515-870c-4b36-a041...</td>\n",
       "      <td>[[152.0, 264.0, 379.0, 213.0], [152.0, 264.0, ...</td>\n",
       "      <td>Lung Opacity</td>\n",
       "      <td>1</td>\n",
       "    </tr>\n",
       "    <tr>\n",
       "      <th>0049f7b2-229b-4a46-91a3-0e321a3ca80a</th>\n",
       "      <td>./stage_2_train_images/0049f7b2-229b-4a46-91a3...</td>\n",
       "      <td>[]</td>\n",
       "      <td>No Lung Opacity / Not Normal</td>\n",
       "      <td>0</td>\n",
       "    </tr>\n",
       "    <tr>\n",
       "      <th>0053ee32-1e03-4dc2-a103-f46ad0448787</th>\n",
       "      <td>./stage_2_train_images/0053ee32-1e03-4dc2-a103...</td>\n",
       "      <td>[]</td>\n",
       "      <td>Normal</td>\n",
       "      <td>0</td>\n",
       "    </tr>\n",
       "    <tr>\n",
       "      <th>00569f44-917d-4c86-a842-81832af98c30</th>\n",
       "      <td>./stage_2_train_images/00569f44-917d-4c86-a842...</td>\n",
       "      <td>[]</td>\n",
       "      <td>No Lung Opacity / Not Normal</td>\n",
       "      <td>0</td>\n",
       "    </tr>\n",
       "    <tr>\n",
       "      <th>005f5517-ab76-4b0d-8a26-f808d97171c4</th>\n",
       "      <td>./stage_2_train_images/005f5517-ab76-4b0d-8a26...</td>\n",
       "      <td>[]</td>\n",
       "      <td>Normal</td>\n",
       "      <td>0</td>\n",
       "    </tr>\n",
       "    <tr>\n",
       "      <th>0067d70b-0e6d-41ff-a9b8-8edf6d5e25e4</th>\n",
       "      <td>./stage_2_train_images/0067d70b-0e6d-41ff-a9b8...</td>\n",
       "      <td>[]</td>\n",
       "      <td>No Lung Opacity / Not Normal</td>\n",
       "      <td>0</td>\n",
       "    </tr>\n",
       "    <tr>\n",
       "      <th>006cec2e-6ce2-4549-bffa-eadfcd1e9970</th>\n",
       "      <td>./stage_2_train_images/006cec2e-6ce2-4549-bffa...</td>\n",
       "      <td>[]</td>\n",
       "      <td>No Lung Opacity / Not Normal</td>\n",
       "      <td>0</td>\n",
       "    </tr>\n",
       "    <tr>\n",
       "      <th>006e75c8-1fd9-4a5a-99e7-285addebed55</th>\n",
       "      <td>./stage_2_train_images/006e75c8-1fd9-4a5a-99e7...</td>\n",
       "      <td>[]</td>\n",
       "      <td>No Lung Opacity / Not Normal</td>\n",
       "      <td>0</td>\n",
       "    </tr>\n",
       "    <tr>\n",
       "      <th>00704310-78a8-4b38-8475-49f4573b2dbb</th>\n",
       "      <td>./stage_2_train_images/00704310-78a8-4b38-8475...</td>\n",
       "      <td>[[577.0, 323.0, 104.0, 160.0], [577.0, 323.0, ...</td>\n",
       "      <td>Lung Opacity</td>\n",
       "      <td>1</td>\n",
       "    </tr>\n",
       "    <tr>\n",
       "      <th>0087bd3a-55a7-4045-b111-b018fa52d361</th>\n",
       "      <td>./stage_2_train_images/0087bd3a-55a7-4045-b111...</td>\n",
       "      <td>[[398.0, 257.0, 341.0, 146.0], [398.0, 257.0, ...</td>\n",
       "      <td>Lung Opacity</td>\n",
       "      <td>1</td>\n",
       "    </tr>\n",
       "    <tr>\n",
       "      <th>0088be53-27f2-4c30-882b-a73a3a5c8c71</th>\n",
       "      <td>./stage_2_train_images/0088be53-27f2-4c30-882b...</td>\n",
       "      <td>[]</td>\n",
       "      <td>Normal</td>\n",
       "      <td>0</td>\n",
       "    </tr>\n",
       "    <tr>\n",
       "      <th>008b69b2-446a-43dd-9ba2-9ccff8f3da41</th>\n",
       "      <td>./stage_2_train_images/008b69b2-446a-43dd-9ba2...</td>\n",
       "      <td>[]</td>\n",
       "      <td>No Lung Opacity / Not Normal</td>\n",
       "      <td>0</td>\n",
       "    </tr>\n",
       "    <tr>\n",
       "      <th>008c19e8-a820-403a-930a-bc74a4053664</th>\n",
       "      <td>./stage_2_train_images/008c19e8-a820-403a-930a...</td>\n",
       "      <td>[]</td>\n",
       "      <td>No Lung Opacity / Not Normal</td>\n",
       "      <td>0</td>\n",
       "    </tr>\n",
       "    <tr>\n",
       "      <th>0092d9c5-26b6-4e66-b196-49b2224ab8d1</th>\n",
       "      <td>./stage_2_train_images/0092d9c5-26b6-4e66-b196...</td>\n",
       "      <td>[]</td>\n",
       "      <td>No Lung Opacity / Not Normal</td>\n",
       "      <td>0</td>\n",
       "    </tr>\n",
       "    <tr>\n",
       "      <th>...</th>\n",
       "      <td>...</td>\n",
       "      <td>...</td>\n",
       "      <td>...</td>\n",
       "      <td>...</td>\n",
       "    </tr>\n",
       "    <tr>\n",
       "      <th>ffc01e64-ba14-4620-8016-235fc1609767</th>\n",
       "      <td>./stage_2_train_images/ffc01e64-ba14-4620-8016...</td>\n",
       "      <td>[]</td>\n",
       "      <td>No Lung Opacity / Not Normal</td>\n",
       "      <td>0</td>\n",
       "    </tr>\n",
       "    <tr>\n",
       "      <th>ffc3fc59-f046-48b8-b7ad-3a9e07362d0c</th>\n",
       "      <td>./stage_2_train_images/ffc3fc59-f046-48b8-b7ad...</td>\n",
       "      <td>[]</td>\n",
       "      <td>Normal</td>\n",
       "      <td>0</td>\n",
       "    </tr>\n",
       "    <tr>\n",
       "      <th>ffc9e552-ca53-43a8-a156-b0f97f0d40f3</th>\n",
       "      <td>./stage_2_train_images/ffc9e552-ca53-43a8-a156...</td>\n",
       "      <td>[]</td>\n",
       "      <td>Normal</td>\n",
       "      <td>0</td>\n",
       "    </tr>\n",
       "    <tr>\n",
       "      <th>ffcc35e8-6fe8-42df-9605-9fedf57240d1</th>\n",
       "      <td>./stage_2_train_images/ffcc35e8-6fe8-42df-9605...</td>\n",
       "      <td>[]</td>\n",
       "      <td>Normal</td>\n",
       "      <td>0</td>\n",
       "    </tr>\n",
       "    <tr>\n",
       "      <th>ffcfe8c1-5641-4dc3-910c-573e3227f536</th>\n",
       "      <td>./stage_2_train_images/ffcfe8c1-5641-4dc3-910c...</td>\n",
       "      <td>[]</td>\n",
       "      <td>No Lung Opacity / Not Normal</td>\n",
       "      <td>0</td>\n",
       "    </tr>\n",
       "    <tr>\n",
       "      <th>ffd0c212-bfb6-41e3-b17b-b927b99d1730</th>\n",
       "      <td>./stage_2_train_images/ffd0c212-bfb6-41e3-b17b...</td>\n",
       "      <td>[]</td>\n",
       "      <td>No Lung Opacity / Not Normal</td>\n",
       "      <td>0</td>\n",
       "    </tr>\n",
       "    <tr>\n",
       "      <th>ffd2bc74-f9d6-49fb-84d7-de060ee22583</th>\n",
       "      <td>./stage_2_train_images/ffd2bc74-f9d6-49fb-84d7...</td>\n",
       "      <td>[]</td>\n",
       "      <td>No Lung Opacity / Not Normal</td>\n",
       "      <td>0</td>\n",
       "    </tr>\n",
       "    <tr>\n",
       "      <th>ffd56560-6754-4a20-83c6-06ad5c4b30ab</th>\n",
       "      <td>./stage_2_train_images/ffd56560-6754-4a20-83c6...</td>\n",
       "      <td>[]</td>\n",
       "      <td>Normal</td>\n",
       "      <td>0</td>\n",
       "    </tr>\n",
       "    <tr>\n",
       "      <th>ffd670a5-b6dc-4f54-928a-69b7a04662eb</th>\n",
       "      <td>./stage_2_train_images/ffd670a5-b6dc-4f54-928a...</td>\n",
       "      <td>[]</td>\n",
       "      <td>No Lung Opacity / Not Normal</td>\n",
       "      <td>0</td>\n",
       "    </tr>\n",
       "    <tr>\n",
       "      <th>ffd787b6-59ca-48cb-bd15-bcedd52cf37c</th>\n",
       "      <td>./stage_2_train_images/ffd787b6-59ca-48cb-bd15...</td>\n",
       "      <td>[[393.0, 157.0, 458.0, 237.0], [393.0, 157.0, ...</td>\n",
       "      <td>Lung Opacity</td>\n",
       "      <td>1</td>\n",
       "    </tr>\n",
       "    <tr>\n",
       "      <th>ffdc771e-1f1a-47f7-b732-3e06e48c24e8</th>\n",
       "      <td>./stage_2_train_images/ffdc771e-1f1a-47f7-b732...</td>\n",
       "      <td>[]</td>\n",
       "      <td>No Lung Opacity / Not Normal</td>\n",
       "      <td>0</td>\n",
       "    </tr>\n",
       "    <tr>\n",
       "      <th>ffdc8a6a-f513-4a04-9c1d-24840a779220</th>\n",
       "      <td>./stage_2_train_images/ffdc8a6a-f513-4a04-9c1d...</td>\n",
       "      <td>[]</td>\n",
       "      <td>Normal</td>\n",
       "      <td>0</td>\n",
       "    </tr>\n",
       "    <tr>\n",
       "      <th>ffdc957e-6239-427d-8a54-fdf8ced3a356</th>\n",
       "      <td>./stage_2_train_images/ffdc957e-6239-427d-8a54...</td>\n",
       "      <td>[]</td>\n",
       "      <td>No Lung Opacity / Not Normal</td>\n",
       "      <td>0</td>\n",
       "    </tr>\n",
       "    <tr>\n",
       "      <th>ffde3879-241c-4b03-9d91-625cae6b49e8</th>\n",
       "      <td>./stage_2_train_images/ffde3879-241c-4b03-9d91...</td>\n",
       "      <td>[]</td>\n",
       "      <td>No Lung Opacity / Not Normal</td>\n",
       "      <td>0</td>\n",
       "    </tr>\n",
       "    <tr>\n",
       "      <th>ffde3e7e-849c-4077-bfd0-4e4498ee8817</th>\n",
       "      <td>./stage_2_train_images/ffde3e7e-849c-4077-bfd0...</td>\n",
       "      <td>[]</td>\n",
       "      <td>No Lung Opacity / Not Normal</td>\n",
       "      <td>0</td>\n",
       "    </tr>\n",
       "    <tr>\n",
       "      <th>ffe16061-b19f-4333-8a03-b41aab42b47d</th>\n",
       "      <td>./stage_2_train_images/ffe16061-b19f-4333-8a03...</td>\n",
       "      <td>[]</td>\n",
       "      <td>Normal</td>\n",
       "      <td>0</td>\n",
       "    </tr>\n",
       "    <tr>\n",
       "      <th>ffe4707d-517c-4ed0-8a9f-3ad149748991</th>\n",
       "      <td>./stage_2_train_images/ffe4707d-517c-4ed0-8a9f...</td>\n",
       "      <td>[]</td>\n",
       "      <td>No Lung Opacity / Not Normal</td>\n",
       "      <td>0</td>\n",
       "    </tr>\n",
       "    <tr>\n",
       "      <th>ffe9a1c4-634d-408f-9b0f-8098ffb78a4e</th>\n",
       "      <td>./stage_2_train_images/ffe9a1c4-634d-408f-9b0f...</td>\n",
       "      <td>[]</td>\n",
       "      <td>No Lung Opacity / Not Normal</td>\n",
       "      <td>0</td>\n",
       "    </tr>\n",
       "    <tr>\n",
       "      <th>ffe9ab5c-9d39-4235-9ade-d725dcad6b76</th>\n",
       "      <td>./stage_2_train_images/ffe9ab5c-9d39-4235-9ade...</td>\n",
       "      <td>[]</td>\n",
       "      <td>No Lung Opacity / Not Normal</td>\n",
       "      <td>0</td>\n",
       "    </tr>\n",
       "    <tr>\n",
       "      <th>ffeab8ae-f339-40d6-96f1-f1f8c97d2cb1</th>\n",
       "      <td>./stage_2_train_images/ffeab8ae-f339-40d6-96f1...</td>\n",
       "      <td>[]</td>\n",
       "      <td>No Lung Opacity / Not Normal</td>\n",
       "      <td>0</td>\n",
       "    </tr>\n",
       "    <tr>\n",
       "      <th>ffee0360-20cf-4d4a-9af5-e5c9b493c73b</th>\n",
       "      <td>./stage_2_train_images/ffee0360-20cf-4d4a-9af5...</td>\n",
       "      <td>[]</td>\n",
       "      <td>No Lung Opacity / Not Normal</td>\n",
       "      <td>0</td>\n",
       "    </tr>\n",
       "    <tr>\n",
       "      <th>fff0b503-72a5-446a-843d-f3d152e39053</th>\n",
       "      <td>./stage_2_train_images/fff0b503-72a5-446a-843d...</td>\n",
       "      <td>[[267.0, 158.0, 209.0, 180.0]]</td>\n",
       "      <td>Lung Opacity</td>\n",
       "      <td>1</td>\n",
       "    </tr>\n",
       "    <tr>\n",
       "      <th>fff1cc9c-3895-43be-84e1-a7aaef21002b</th>\n",
       "      <td>./stage_2_train_images/fff1cc9c-3895-43be-84e1...</td>\n",
       "      <td>[]</td>\n",
       "      <td>No Lung Opacity / Not Normal</td>\n",
       "      <td>0</td>\n",
       "    </tr>\n",
       "    <tr>\n",
       "      <th>fff50447-821b-4b72-ae91-22b0679d6d3e</th>\n",
       "      <td>./stage_2_train_images/fff50447-821b-4b72-ae91...</td>\n",
       "      <td>[]</td>\n",
       "      <td>Normal</td>\n",
       "      <td>0</td>\n",
       "    </tr>\n",
       "    <tr>\n",
       "      <th>fff7447f-99ce-4102-87f3-9788b2459eb4</th>\n",
       "      <td>./stage_2_train_images/fff7447f-99ce-4102-87f3...</td>\n",
       "      <td>[]</td>\n",
       "      <td>No Lung Opacity / Not Normal</td>\n",
       "      <td>0</td>\n",
       "    </tr>\n",
       "    <tr>\n",
       "      <th>fffb2395-8edd-4954-8a89-ffe2fd329be3</th>\n",
       "      <td>./stage_2_train_images/fffb2395-8edd-4954-8a89...</td>\n",
       "      <td>[[285.0, 177.0, 529.0, 225.0], [285.0, 177.0, ...</td>\n",
       "      <td>Lung Opacity</td>\n",
       "      <td>1</td>\n",
       "    </tr>\n",
       "    <tr>\n",
       "      <th>fffba05a-1635-4545-9bbd-57ad4cfe8d27</th>\n",
       "      <td>./stage_2_train_images/fffba05a-1635-4545-9bbd...</td>\n",
       "      <td>[]</td>\n",
       "      <td>Normal</td>\n",
       "      <td>0</td>\n",
       "    </tr>\n",
       "    <tr>\n",
       "      <th>fffc95b5-605b-4226-80ab-62caec682b22</th>\n",
       "      <td>./stage_2_train_images/fffc95b5-605b-4226-80ab...</td>\n",
       "      <td>[]</td>\n",
       "      <td>No Lung Opacity / Not Normal</td>\n",
       "      <td>0</td>\n",
       "    </tr>\n",
       "    <tr>\n",
       "      <th>fffcff11-d018-4414-971a-a7cefa327795</th>\n",
       "      <td>./stage_2_train_images/fffcff11-d018-4414-971a...</td>\n",
       "      <td>[]</td>\n",
       "      <td>No Lung Opacity / Not Normal</td>\n",
       "      <td>0</td>\n",
       "    </tr>\n",
       "    <tr>\n",
       "      <th>fffec09e-8a4a-48b1-b33e-ab4890ccd136</th>\n",
       "      <td>./stage_2_train_images/fffec09e-8a4a-48b1-b33e...</td>\n",
       "      <td>[]</td>\n",
       "      <td>No Lung Opacity / Not Normal</td>\n",
       "      <td>0</td>\n",
       "    </tr>\n",
       "  </tbody>\n",
       "</table>\n",
       "<p>26684 rows × 4 columns</p>\n",
       "</div>"
      ],
      "text/plain": [
       "                                                                                  dicom  \\\n",
       "0004cfab-14fd-4e49-80ba-63a80b6bddd6  ./stage_2_train_images/0004cfab-14fd-4e49-80ba...   \n",
       "000924cf-0f8d-42bd-9158-1af53881a557  ./stage_2_train_images/000924cf-0f8d-42bd-9158...   \n",
       "000db696-cf54-4385-b10b-6b16fbb3f985  ./stage_2_train_images/000db696-cf54-4385-b10b...   \n",
       "000fe35a-2649-43d4-b027-e67796d412e0  ./stage_2_train_images/000fe35a-2649-43d4-b027...   \n",
       "001031d9-f904-4a23-b3e5-2c088acd19c6  ./stage_2_train_images/001031d9-f904-4a23-b3e5...   \n",
       "0010f549-b242-4e94-87a8-57d79de215fc  ./stage_2_train_images/0010f549-b242-4e94-87a8...   \n",
       "001916b8-3d30-4935-a5d1-8eaddb1646cd  ./stage_2_train_images/001916b8-3d30-4935-a5d1...   \n",
       "0022073f-cec8-42ec-ab5f-bc2314649235  ./stage_2_train_images/0022073f-cec8-42ec-ab5f...   \n",
       "0022995a-45eb-4cfa-9a59-cd15f5196c64  ./stage_2_train_images/0022995a-45eb-4cfa-9a59...   \n",
       "0025d2de-bd78-4d36-9f72-e15a5e22ca82  ./stage_2_train_images/0025d2de-bd78-4d36-9f72...   \n",
       "00293de0-a530-41dc-9621-0b3def01d06d  ./stage_2_train_images/00293de0-a530-41dc-9621...   \n",
       "002c591d-df62-4e34-8eda-838c664430a9  ./stage_2_train_images/002c591d-df62-4e34-8eda...   \n",
       "002cb550-2e31-42f1-a29d-fbc279977e71  ./stage_2_train_images/002cb550-2e31-42f1-a29d...   \n",
       "00313ee0-9eaa-42f4-b0ab-c148ed3241cd  ./stage_2_train_images/00313ee0-9eaa-42f4-b0ab...   \n",
       "00322d4d-1c29-4943-afc9-b6754be640eb  ./stage_2_train_images/00322d4d-1c29-4943-afc9...   \n",
       "003d8fa0-6bf1-40ed-b54c-ac657f8495c5  ./stage_2_train_images/003d8fa0-6bf1-40ed-b54c...   \n",
       "00436515-870c-4b36-a041-de91049b9ab4  ./stage_2_train_images/00436515-870c-4b36-a041...   \n",
       "0049f7b2-229b-4a46-91a3-0e321a3ca80a  ./stage_2_train_images/0049f7b2-229b-4a46-91a3...   \n",
       "0053ee32-1e03-4dc2-a103-f46ad0448787  ./stage_2_train_images/0053ee32-1e03-4dc2-a103...   \n",
       "00569f44-917d-4c86-a842-81832af98c30  ./stage_2_train_images/00569f44-917d-4c86-a842...   \n",
       "005f5517-ab76-4b0d-8a26-f808d97171c4  ./stage_2_train_images/005f5517-ab76-4b0d-8a26...   \n",
       "0067d70b-0e6d-41ff-a9b8-8edf6d5e25e4  ./stage_2_train_images/0067d70b-0e6d-41ff-a9b8...   \n",
       "006cec2e-6ce2-4549-bffa-eadfcd1e9970  ./stage_2_train_images/006cec2e-6ce2-4549-bffa...   \n",
       "006e75c8-1fd9-4a5a-99e7-285addebed55  ./stage_2_train_images/006e75c8-1fd9-4a5a-99e7...   \n",
       "00704310-78a8-4b38-8475-49f4573b2dbb  ./stage_2_train_images/00704310-78a8-4b38-8475...   \n",
       "0087bd3a-55a7-4045-b111-b018fa52d361  ./stage_2_train_images/0087bd3a-55a7-4045-b111...   \n",
       "0088be53-27f2-4c30-882b-a73a3a5c8c71  ./stage_2_train_images/0088be53-27f2-4c30-882b...   \n",
       "008b69b2-446a-43dd-9ba2-9ccff8f3da41  ./stage_2_train_images/008b69b2-446a-43dd-9ba2...   \n",
       "008c19e8-a820-403a-930a-bc74a4053664  ./stage_2_train_images/008c19e8-a820-403a-930a...   \n",
       "0092d9c5-26b6-4e66-b196-49b2224ab8d1  ./stage_2_train_images/0092d9c5-26b6-4e66-b196...   \n",
       "...                                                                                 ...   \n",
       "ffc01e64-ba14-4620-8016-235fc1609767  ./stage_2_train_images/ffc01e64-ba14-4620-8016...   \n",
       "ffc3fc59-f046-48b8-b7ad-3a9e07362d0c  ./stage_2_train_images/ffc3fc59-f046-48b8-b7ad...   \n",
       "ffc9e552-ca53-43a8-a156-b0f97f0d40f3  ./stage_2_train_images/ffc9e552-ca53-43a8-a156...   \n",
       "ffcc35e8-6fe8-42df-9605-9fedf57240d1  ./stage_2_train_images/ffcc35e8-6fe8-42df-9605...   \n",
       "ffcfe8c1-5641-4dc3-910c-573e3227f536  ./stage_2_train_images/ffcfe8c1-5641-4dc3-910c...   \n",
       "ffd0c212-bfb6-41e3-b17b-b927b99d1730  ./stage_2_train_images/ffd0c212-bfb6-41e3-b17b...   \n",
       "ffd2bc74-f9d6-49fb-84d7-de060ee22583  ./stage_2_train_images/ffd2bc74-f9d6-49fb-84d7...   \n",
       "ffd56560-6754-4a20-83c6-06ad5c4b30ab  ./stage_2_train_images/ffd56560-6754-4a20-83c6...   \n",
       "ffd670a5-b6dc-4f54-928a-69b7a04662eb  ./stage_2_train_images/ffd670a5-b6dc-4f54-928a...   \n",
       "ffd787b6-59ca-48cb-bd15-bcedd52cf37c  ./stage_2_train_images/ffd787b6-59ca-48cb-bd15...   \n",
       "ffdc771e-1f1a-47f7-b732-3e06e48c24e8  ./stage_2_train_images/ffdc771e-1f1a-47f7-b732...   \n",
       "ffdc8a6a-f513-4a04-9c1d-24840a779220  ./stage_2_train_images/ffdc8a6a-f513-4a04-9c1d...   \n",
       "ffdc957e-6239-427d-8a54-fdf8ced3a356  ./stage_2_train_images/ffdc957e-6239-427d-8a54...   \n",
       "ffde3879-241c-4b03-9d91-625cae6b49e8  ./stage_2_train_images/ffde3879-241c-4b03-9d91...   \n",
       "ffde3e7e-849c-4077-bfd0-4e4498ee8817  ./stage_2_train_images/ffde3e7e-849c-4077-bfd0...   \n",
       "ffe16061-b19f-4333-8a03-b41aab42b47d  ./stage_2_train_images/ffe16061-b19f-4333-8a03...   \n",
       "ffe4707d-517c-4ed0-8a9f-3ad149748991  ./stage_2_train_images/ffe4707d-517c-4ed0-8a9f...   \n",
       "ffe9a1c4-634d-408f-9b0f-8098ffb78a4e  ./stage_2_train_images/ffe9a1c4-634d-408f-9b0f...   \n",
       "ffe9ab5c-9d39-4235-9ade-d725dcad6b76  ./stage_2_train_images/ffe9ab5c-9d39-4235-9ade...   \n",
       "ffeab8ae-f339-40d6-96f1-f1f8c97d2cb1  ./stage_2_train_images/ffeab8ae-f339-40d6-96f1...   \n",
       "ffee0360-20cf-4d4a-9af5-e5c9b493c73b  ./stage_2_train_images/ffee0360-20cf-4d4a-9af5...   \n",
       "fff0b503-72a5-446a-843d-f3d152e39053  ./stage_2_train_images/fff0b503-72a5-446a-843d...   \n",
       "fff1cc9c-3895-43be-84e1-a7aaef21002b  ./stage_2_train_images/fff1cc9c-3895-43be-84e1...   \n",
       "fff50447-821b-4b72-ae91-22b0679d6d3e  ./stage_2_train_images/fff50447-821b-4b72-ae91...   \n",
       "fff7447f-99ce-4102-87f3-9788b2459eb4  ./stage_2_train_images/fff7447f-99ce-4102-87f3...   \n",
       "fffb2395-8edd-4954-8a89-ffe2fd329be3  ./stage_2_train_images/fffb2395-8edd-4954-8a89...   \n",
       "fffba05a-1635-4545-9bbd-57ad4cfe8d27  ./stage_2_train_images/fffba05a-1635-4545-9bbd...   \n",
       "fffc95b5-605b-4226-80ab-62caec682b22  ./stage_2_train_images/fffc95b5-605b-4226-80ab...   \n",
       "fffcff11-d018-4414-971a-a7cefa327795  ./stage_2_train_images/fffcff11-d018-4414-971a...   \n",
       "fffec09e-8a4a-48b1-b33e-ab4890ccd136  ./stage_2_train_images/fffec09e-8a4a-48b1-b33e...   \n",
       "\n",
       "                                                                                  boxes  \\\n",
       "0004cfab-14fd-4e49-80ba-63a80b6bddd6                                                 []   \n",
       "000924cf-0f8d-42bd-9158-1af53881a557                                                 []   \n",
       "000db696-cf54-4385-b10b-6b16fbb3f985  [[318.0, 316.0, 478.0, 170.0], [318.0, 316.0, ...   \n",
       "000fe35a-2649-43d4-b027-e67796d412e0  [[282.0, 570.0, 409.0, 269.0], [282.0, 570.0, ...   \n",
       "001031d9-f904-4a23-b3e5-2c088acd19c6  [[160.0, 66.0, 608.0, 373.0], [160.0, 66.0, 60...   \n",
       "0010f549-b242-4e94-87a8-57d79de215fc                                                 []   \n",
       "001916b8-3d30-4935-a5d1-8eaddb1646cd                     [[375.0, 198.0, 206.0, 114.0]]   \n",
       "0022073f-cec8-42ec-ab5f-bc2314649235  [[232.0, 575.0, 528.0, 246.0], [232.0, 575.0, ...   \n",
       "0022995a-45eb-4cfa-9a59-cd15f5196c64                                                 []   \n",
       "0025d2de-bd78-4d36-9f72-e15a5e22ca82                                                 []   \n",
       "00293de0-a530-41dc-9621-0b3def01d06d                                                 []   \n",
       "002c591d-df62-4e34-8eda-838c664430a9                                                 []   \n",
       "002cb550-2e31-42f1-a29d-fbc279977e71  [[342.0, 176.0, 239.0, 170.0], [342.0, 176.0, ...   \n",
       "00313ee0-9eaa-42f4-b0ab-c148ed3241cd                                                 []   \n",
       "00322d4d-1c29-4943-afc9-b6754be640eb                                                 []   \n",
       "003d8fa0-6bf1-40ed-b54c-ac657f8495c5                                                 []   \n",
       "00436515-870c-4b36-a041-de91049b9ab4  [[152.0, 264.0, 379.0, 213.0], [152.0, 264.0, ...   \n",
       "0049f7b2-229b-4a46-91a3-0e321a3ca80a                                                 []   \n",
       "0053ee32-1e03-4dc2-a103-f46ad0448787                                                 []   \n",
       "00569f44-917d-4c86-a842-81832af98c30                                                 []   \n",
       "005f5517-ab76-4b0d-8a26-f808d97171c4                                                 []   \n",
       "0067d70b-0e6d-41ff-a9b8-8edf6d5e25e4                                                 []   \n",
       "006cec2e-6ce2-4549-bffa-eadfcd1e9970                                                 []   \n",
       "006e75c8-1fd9-4a5a-99e7-285addebed55                                                 []   \n",
       "00704310-78a8-4b38-8475-49f4573b2dbb  [[577.0, 323.0, 104.0, 160.0], [577.0, 323.0, ...   \n",
       "0087bd3a-55a7-4045-b111-b018fa52d361  [[398.0, 257.0, 341.0, 146.0], [398.0, 257.0, ...   \n",
       "0088be53-27f2-4c30-882b-a73a3a5c8c71                                                 []   \n",
       "008b69b2-446a-43dd-9ba2-9ccff8f3da41                                                 []   \n",
       "008c19e8-a820-403a-930a-bc74a4053664                                                 []   \n",
       "0092d9c5-26b6-4e66-b196-49b2224ab8d1                                                 []   \n",
       "...                                                                                 ...   \n",
       "ffc01e64-ba14-4620-8016-235fc1609767                                                 []   \n",
       "ffc3fc59-f046-48b8-b7ad-3a9e07362d0c                                                 []   \n",
       "ffc9e552-ca53-43a8-a156-b0f97f0d40f3                                                 []   \n",
       "ffcc35e8-6fe8-42df-9605-9fedf57240d1                                                 []   \n",
       "ffcfe8c1-5641-4dc3-910c-573e3227f536                                                 []   \n",
       "ffd0c212-bfb6-41e3-b17b-b927b99d1730                                                 []   \n",
       "ffd2bc74-f9d6-49fb-84d7-de060ee22583                                                 []   \n",
       "ffd56560-6754-4a20-83c6-06ad5c4b30ab                                                 []   \n",
       "ffd670a5-b6dc-4f54-928a-69b7a04662eb                                                 []   \n",
       "ffd787b6-59ca-48cb-bd15-bcedd52cf37c  [[393.0, 157.0, 458.0, 237.0], [393.0, 157.0, ...   \n",
       "ffdc771e-1f1a-47f7-b732-3e06e48c24e8                                                 []   \n",
       "ffdc8a6a-f513-4a04-9c1d-24840a779220                                                 []   \n",
       "ffdc957e-6239-427d-8a54-fdf8ced3a356                                                 []   \n",
       "ffde3879-241c-4b03-9d91-625cae6b49e8                                                 []   \n",
       "ffde3e7e-849c-4077-bfd0-4e4498ee8817                                                 []   \n",
       "ffe16061-b19f-4333-8a03-b41aab42b47d                                                 []   \n",
       "ffe4707d-517c-4ed0-8a9f-3ad149748991                                                 []   \n",
       "ffe9a1c4-634d-408f-9b0f-8098ffb78a4e                                                 []   \n",
       "ffe9ab5c-9d39-4235-9ade-d725dcad6b76                                                 []   \n",
       "ffeab8ae-f339-40d6-96f1-f1f8c97d2cb1                                                 []   \n",
       "ffee0360-20cf-4d4a-9af5-e5c9b493c73b                                                 []   \n",
       "fff0b503-72a5-446a-843d-f3d152e39053                     [[267.0, 158.0, 209.0, 180.0]]   \n",
       "fff1cc9c-3895-43be-84e1-a7aaef21002b                                                 []   \n",
       "fff50447-821b-4b72-ae91-22b0679d6d3e                                                 []   \n",
       "fff7447f-99ce-4102-87f3-9788b2459eb4                                                 []   \n",
       "fffb2395-8edd-4954-8a89-ffe2fd329be3  [[285.0, 177.0, 529.0, 225.0], [285.0, 177.0, ...   \n",
       "fffba05a-1635-4545-9bbd-57ad4cfe8d27                                                 []   \n",
       "fffc95b5-605b-4226-80ab-62caec682b22                                                 []   \n",
       "fffcff11-d018-4414-971a-a7cefa327795                                                 []   \n",
       "fffec09e-8a4a-48b1-b33e-ab4890ccd136                                                 []   \n",
       "\n",
       "                                                             class label  \n",
       "0004cfab-14fd-4e49-80ba-63a80b6bddd6  No Lung Opacity / Not Normal     0  \n",
       "000924cf-0f8d-42bd-9158-1af53881a557                        Normal     0  \n",
       "000db696-cf54-4385-b10b-6b16fbb3f985                  Lung Opacity     1  \n",
       "000fe35a-2649-43d4-b027-e67796d412e0                  Lung Opacity     1  \n",
       "001031d9-f904-4a23-b3e5-2c088acd19c6                  Lung Opacity     1  \n",
       "0010f549-b242-4e94-87a8-57d79de215fc                        Normal     0  \n",
       "001916b8-3d30-4935-a5d1-8eaddb1646cd                  Lung Opacity     1  \n",
       "0022073f-cec8-42ec-ab5f-bc2314649235                  Lung Opacity     1  \n",
       "0022995a-45eb-4cfa-9a59-cd15f5196c64                        Normal     0  \n",
       "0025d2de-bd78-4d36-9f72-e15a5e22ca82                        Normal     0  \n",
       "00293de0-a530-41dc-9621-0b3def01d06d                        Normal     0  \n",
       "002c591d-df62-4e34-8eda-838c664430a9                        Normal     0  \n",
       "002cb550-2e31-42f1-a29d-fbc279977e71                  Lung Opacity     1  \n",
       "00313ee0-9eaa-42f4-b0ab-c148ed3241cd  No Lung Opacity / Not Normal     0  \n",
       "00322d4d-1c29-4943-afc9-b6754be640eb  No Lung Opacity / Not Normal     0  \n",
       "003d8fa0-6bf1-40ed-b54c-ac657f8495c5                        Normal     0  \n",
       "00436515-870c-4b36-a041-de91049b9ab4                  Lung Opacity     1  \n",
       "0049f7b2-229b-4a46-91a3-0e321a3ca80a  No Lung Opacity / Not Normal     0  \n",
       "0053ee32-1e03-4dc2-a103-f46ad0448787                        Normal     0  \n",
       "00569f44-917d-4c86-a842-81832af98c30  No Lung Opacity / Not Normal     0  \n",
       "005f5517-ab76-4b0d-8a26-f808d97171c4                        Normal     0  \n",
       "0067d70b-0e6d-41ff-a9b8-8edf6d5e25e4  No Lung Opacity / Not Normal     0  \n",
       "006cec2e-6ce2-4549-bffa-eadfcd1e9970  No Lung Opacity / Not Normal     0  \n",
       "006e75c8-1fd9-4a5a-99e7-285addebed55  No Lung Opacity / Not Normal     0  \n",
       "00704310-78a8-4b38-8475-49f4573b2dbb                  Lung Opacity     1  \n",
       "0087bd3a-55a7-4045-b111-b018fa52d361                  Lung Opacity     1  \n",
       "0088be53-27f2-4c30-882b-a73a3a5c8c71                        Normal     0  \n",
       "008b69b2-446a-43dd-9ba2-9ccff8f3da41  No Lung Opacity / Not Normal     0  \n",
       "008c19e8-a820-403a-930a-bc74a4053664  No Lung Opacity / Not Normal     0  \n",
       "0092d9c5-26b6-4e66-b196-49b2224ab8d1  No Lung Opacity / Not Normal     0  \n",
       "...                                                            ...   ...  \n",
       "ffc01e64-ba14-4620-8016-235fc1609767  No Lung Opacity / Not Normal     0  \n",
       "ffc3fc59-f046-48b8-b7ad-3a9e07362d0c                        Normal     0  \n",
       "ffc9e552-ca53-43a8-a156-b0f97f0d40f3                        Normal     0  \n",
       "ffcc35e8-6fe8-42df-9605-9fedf57240d1                        Normal     0  \n",
       "ffcfe8c1-5641-4dc3-910c-573e3227f536  No Lung Opacity / Not Normal     0  \n",
       "ffd0c212-bfb6-41e3-b17b-b927b99d1730  No Lung Opacity / Not Normal     0  \n",
       "ffd2bc74-f9d6-49fb-84d7-de060ee22583  No Lung Opacity / Not Normal     0  \n",
       "ffd56560-6754-4a20-83c6-06ad5c4b30ab                        Normal     0  \n",
       "ffd670a5-b6dc-4f54-928a-69b7a04662eb  No Lung Opacity / Not Normal     0  \n",
       "ffd787b6-59ca-48cb-bd15-bcedd52cf37c                  Lung Opacity     1  \n",
       "ffdc771e-1f1a-47f7-b732-3e06e48c24e8  No Lung Opacity / Not Normal     0  \n",
       "ffdc8a6a-f513-4a04-9c1d-24840a779220                        Normal     0  \n",
       "ffdc957e-6239-427d-8a54-fdf8ced3a356  No Lung Opacity / Not Normal     0  \n",
       "ffde3879-241c-4b03-9d91-625cae6b49e8  No Lung Opacity / Not Normal     0  \n",
       "ffde3e7e-849c-4077-bfd0-4e4498ee8817  No Lung Opacity / Not Normal     0  \n",
       "ffe16061-b19f-4333-8a03-b41aab42b47d                        Normal     0  \n",
       "ffe4707d-517c-4ed0-8a9f-3ad149748991  No Lung Opacity / Not Normal     0  \n",
       "ffe9a1c4-634d-408f-9b0f-8098ffb78a4e  No Lung Opacity / Not Normal     0  \n",
       "ffe9ab5c-9d39-4235-9ade-d725dcad6b76  No Lung Opacity / Not Normal     0  \n",
       "ffeab8ae-f339-40d6-96f1-f1f8c97d2cb1  No Lung Opacity / Not Normal     0  \n",
       "ffee0360-20cf-4d4a-9af5-e5c9b493c73b  No Lung Opacity / Not Normal     0  \n",
       "fff0b503-72a5-446a-843d-f3d152e39053                  Lung Opacity     1  \n",
       "fff1cc9c-3895-43be-84e1-a7aaef21002b  No Lung Opacity / Not Normal     0  \n",
       "fff50447-821b-4b72-ae91-22b0679d6d3e                        Normal     0  \n",
       "fff7447f-99ce-4102-87f3-9788b2459eb4  No Lung Opacity / Not Normal     0  \n",
       "fffb2395-8edd-4954-8a89-ffe2fd329be3                  Lung Opacity     1  \n",
       "fffba05a-1635-4545-9bbd-57ad4cfe8d27                        Normal     0  \n",
       "fffc95b5-605b-4226-80ab-62caec682b22  No Lung Opacity / Not Normal     0  \n",
       "fffcff11-d018-4414-971a-a7cefa327795  No Lung Opacity / Not Normal     0  \n",
       "fffec09e-8a4a-48b1-b33e-ab4890ccd136  No Lung Opacity / Not Normal     0  \n",
       "\n",
       "[26684 rows x 4 columns]"
      ]
     },
     "execution_count": 40,
     "metadata": {},
     "output_type": "execute_result"
    }
   ],
   "source": [
    "df_train"
   ]
  },
  {
   "cell_type": "code",
   "execution_count": 41,
   "metadata": {},
   "outputs": [
    {
     "data": {
      "text/plain": [
       "(26684, 4)"
      ]
     },
     "execution_count": 41,
     "metadata": {},
     "output_type": "execute_result"
    }
   ],
   "source": [
    "df_train.shape"
   ]
  },
  {
   "cell_type": "code",
   "execution_count": 43,
   "metadata": {},
   "outputs": [],
   "source": [
    "y_label = np.array(df_train['label'].reset_index(drop=True))\n",
    "y_class = np.array(df_train['class'].reset_index(drop=True))\n",
    "y_boxes = np.array(df_train['boxes'].reset_index(drop=True))"
   ]
  },
  {
   "cell_type": "code",
   "execution_count": 44,
   "metadata": {},
   "outputs": [],
   "source": [
    "def draw(data):\n",
    "    \"\"\"\n",
    "    Method to draw single patient with bounding box(es) if present \n",
    "\n",
    "    \"\"\"\n",
    "    # --- Open DICOM file\n",
    "    d = pydicom.read_file(data['dicom'])\n",
    "    im = d.pixel_array\n",
    "\n",
    "    # --- Convert from single-channel grayscale to 3-channel RGB\n",
    "    im = np.stack([im] * 3, axis=2)\n",
    "\n",
    "    # --- Add boxes with random color if present\n",
    "    for box in data['boxes']:\n",
    "        rgb = np.floor(np.random.rand(3) * 256).astype('int')\n",
    "        im = overlay_box(im=im, box=box, rgb=rgb, stroke=6)\n",
    "\n",
    "    pylab.imshow(im, cmap=pylab.cm.gist_gray)\n",
    "    pylab.axis('off')\n",
    "\n",
    "def overlay_box(im, box, rgb, stroke=1):\n",
    "    \"\"\"\n",
    "    Method to overlay single box on image\n",
    "\n",
    "    \"\"\"\n",
    "    # --- Convert coordinates to integers\n",
    "    box = [int(b) for b in box]\n",
    "    \n",
    "    # --- Extract coordinates\n",
    "    y1, x1, height, width = box\n",
    "    y2 = y1 + height\n",
    "    x2 = x1 + width\n",
    "\n",
    "    im[y1:y1 + stroke, x1:x2] = rgb\n",
    "    im[y2:y2 + stroke, x1:x2] = rgb\n",
    "    im[y1:y2, x1:x1 + stroke] = rgb\n",
    "    im[y1:y2, x2:x2 + stroke] = rgb\n",
    "\n",
    "    return im"
   ]
  },
  {
   "cell_type": "code",
   "execution_count": 45,
   "metadata": {},
   "outputs": [
    {
     "name": "stdout",
     "output_type": "stream",
     "text": [
      "{'dicom': './stage_2_train_images/00436515-870c-4b36-a041-de91049b9ab4.dcm', 'label': 1, 'boxes': [[152.0, 264.0, 379.0, 213.0], [152.0, 264.0, 379.0, 213.0], [152.0, 562.0, 453.0, 256.0], [152.0, 562.0, 453.0, 256.0]], 'class': 'Lung Opacity'}\n"
     ]
    }
   ],
   "source": [
    "print(parsed[train_labels['patientId'][4]])\n"
   ]
  },
  {
   "cell_type": "code",
   "execution_count": 46,
   "metadata": {},
   "outputs": [
    {
     "data": {
      "image/png": "[encoded data removed]",
      "text/plain": [
       "<Figure size 432x288 with 1 Axes>"
      ]
     },
     "metadata": {
      "needs_background": "light"
     },
     "output_type": "display_data"
    }
   ],
   "source": [
    "draw(parsed[train_data['patientId'][0]])\n"
   ]
  },
  {
   "cell_type": "code",
   "execution_count": 47,
   "metadata": {},
   "outputs": [
    {
     "data": {
      "image/png": "[encoded data removed]",
      "text/plain": [
       "<Figure size 432x288 with 1 Axes>"
      ]
     },
     "metadata": {
      "needs_background": "light"
     },
     "output_type": "display_data"
    }
   ],
   "source": [
    "draw(parsed[train_data['patientId'][4]])"
   ]
  },
  {
   "cell_type": "code",
   "execution_count": null,
   "metadata": {},
   "outputs": [],
   "source": [
    "if not os.path.exists('./test_jpg/'):\n",
    "    os.mkdir('./test_jpg/')\n",
    "    folder_path = './stage_2_test_images/'\n",
    "    jpg_path = './test_jpg/'\n",
    "    path = os.listdir(folder_path)\n",
    "    for idx,image in enumerate(path):\n",
    "        img = pydicom.dcmread(os.path.join(folder_path,image))\n",
    "        rows=[]\n",
    "        img_pixel = img.pixel_array\n",
    "        image = image.replace('.dcm','.jpg')\n",
    "        cv2.imwrite(os.path.join(jpg_path,image),img_pixel)"
   ]
  },
  {
   "cell_type": "code",
   "execution_count": 61,
   "metadata": {},
   "outputs": [],
   "source": [
    "img_data_list=[]\n",
    "path = './train_img1_jpg/'\n",
    "for data in os.listdir('./train_img1_jpg/'):\n",
    "    img_path = path + data\n",
    "    img = image.load_img(img_path, target_size=(224, 224))\n",
    "    x = image.img_to_array(img)\n",
    "    x = np.expand_dims(x, axis=0)\n",
    "    x = preprocess_input(x)\n",
    "    #print('Input image shape:', x.shape)\n",
    "    img_data_list.append(x)\n",
    "    "
   ]
  },
  {
   "cell_type": "code",
   "execution_count": 65,
   "metadata": {},
   "outputs": [
    {
     "name": "stderr",
     "output_type": "stream",
     "text": [
      "\n",
      "KeyboardInterrupt\n",
      "\n"
     ]
    }
   ],
   "source": [
    "import pickle\n",
    "with open('img_data_list.txt', \"wb\") as fp:\n",
    "    pickle.dump(img_data_list, fp)\n",
    "# For reading\n",
    "#with open(\"test.txt\", \"rb\") as fp:\n",
    "    #b = pickle.load(l, fp)"
   ]
  },
  {
   "cell_type": "code",
   "execution_count": 70,
   "metadata": {},
   "outputs": [],
   "source": [
    "from sklearn.model_selection import train_test_split\n",
    "X_train, X_test, y_train, y_test = train_test_split(img_data_list, y_label, test_size=0.2, random_state=2)"
   ]
  },
  {
   "cell_type": "code",
   "execution_count": null,
   "metadata": {},
   "outputs": [],
   "source": [
    "x_tr = np.array(X_train[:5000])\n",
    "x_trn = x_tr.reshape(x_tr.shape[0], 224, 224, 3)\n"
   ]
  },
  {
   "cell_type": "code",
   "execution_count": 215,
   "metadata": {},
   "outputs": [],
   "source": [
    "x_ts = np.array(X_test[:50])\n",
    "x_tst = x_ts.reshape(x_ts.shape[0], 224, 224, 3)"
   ]
  },
  {
   "cell_type": "code",
   "execution_count": 53,
   "metadata": {},
   "outputs": [
    {
     "name": "stdout",
     "output_type": "stream",
     "text": [
      "./train_img1_jpg/0004cfab-14fd-4e49-80ba-63a80b6bddd6.jpg\n"
     ]
    }
   ],
   "source": [
    "path = './train_img1_jpg/'\n",
    "for data in os.listdir('./train_img1_jpg/'):\n",
    "    img_path = path + data\n",
    "    print(img_path)\n",
    "    break"
   ]
  },
  {
   "cell_type": "markdown",
   "metadata": {},
   "source": [
    "# Now we have Dicom data \n",
    "# We have test images and train images converted from .dcm to .jpg\n"
   ]
  },
  {
   "cell_type": "code",
   "execution_count": 57,
   "metadata": {},
   "outputs": [],
   "source": [
    "from keras.applications import ResNet50,resnet50,densenet\n",
    "from keras.applications.resnet50 import preprocess_input\n",
    "from keras.models import Sequential,Model\n",
    "from keras_preprocessing import image\n",
    "from keras import optimizers\n",
    "from keras.layers import Dense,Input,Conv2D,MaxPooling2D,GlobalAveragePooling2D,Dropout,Flatten\n",
    "import tensorflow as tf"
   ]
  },
  {
   "cell_type": "code",
   "execution_count": 113,
   "metadata": {},
   "outputs": [],
   "source": [
    "TRAIN_DIR = './stage_2_train_images'\n",
    "VALID_DIR = './stage_2_test_images'\n",
    "SIZE = (224,224,3)\n",
    "BATCH_SIZE=32\n",
    "gen = keras.preprocessing.image.ImageDataGenerator()\n",
    "val_gen = keras.preprocessing.image.ImageDataGenerator(horizontal_flip=True, vertical_flip=True)\n",
    "\n",
    "batches = gen.flow_from_directory(TRAIN_DIR, target_size=SIZE, class_mode='categorical', shuffle=True, batch_size=BATCH_SIZE)\n",
    "val_batches = val_gen.flow_from_directory(VALID_DIR, target_size=SIZE, class_mode='categorical', shuffle=True, batch_size=BATCH_SIZE)\n",
    "\n"
   ]
  },
  {
   "cell_type": "code",
   "execution_count": 178,
   "metadata": {},
   "outputs": [],
   "source": [
    "#resnet50 = ResNet50(include_top = False,pooling='avg',weights=weights)\n",
    "input_image = Input(shape=(224, 224, 3))\n",
    "resnet50 = ResNet50(include_top=False, input_tensor=input_image, input_shape=(224,224,3),pooling='avg')\n",
    "resnet50.load_weights('resnet50_weights_tf_dim_ordering_tf_kernels_notop.h5')\n",
    "for layer in resnet50.layers[:]:\n",
    "    layer.trainable = False    \n",
    "#make the last 9 layers trainable\n",
    "for layer in resnet50.layers[len(resnet50.layers)-9:]:\n",
    "    layer.trainable = True"
   ]
  },
  {
   "cell_type": "code",
   "execution_count": 194,
   "metadata": {},
   "outputs": [
    {
     "name": "stdout",
     "output_type": "stream",
     "text": [
      "__________________________________________________________________________________________________\n",
      "Layer (type)                    Output Shape         Param #     Connected to                     \n",
      "==================================================================================================\n",
      "input_11 (InputLayer)           (None, 224, 224, 3)  0                                            \n",
      "__________________________________________________________________________________________________\n",
      "conv1_pad (ZeroPadding2D)       (None, 230, 230, 3)  0           input_11[0][0]                   \n",
      "__________________________________________________________________________________________________\n",
      "conv1 (Conv2D)                  (None, 112, 112, 64) 9472        conv1_pad[0][0]                  \n",
      "__________________________________________________________________________________________________\n",
      "bn_conv1 (BatchNormalization)   (None, 112, 112, 64) 256         conv1[0][0]                      \n",
      "__________________________________________________________________________________________________\n",
      "activation_491 (Activation)     (None, 112, 112, 64) 0           bn_conv1[0][0]                   \n",
      "__________________________________________________________________________________________________\n",
      "pool1_pad (ZeroPadding2D)       (None, 114, 114, 64) 0           activation_491[0][0]             \n",
      "__________________________________________________________________________________________________\n",
      "max_pooling2d_14 (MaxPooling2D) (None, 56, 56, 64)   0           pool1_pad[0][0]                  \n",
      "__________________________________________________________________________________________________\n",
      "res2a_branch2a (Conv2D)         (None, 56, 56, 64)   4160        max_pooling2d_14[0][0]           \n",
      "__________________________________________________________________________________________________\n",
      "bn2a_branch2a (BatchNormalizati (None, 56, 56, 64)   256         res2a_branch2a[0][0]             \n",
      "__________________________________________________________________________________________________\n",
      "activation_492 (Activation)     (None, 56, 56, 64)   0           bn2a_branch2a[0][0]              \n",
      "__________________________________________________________________________________________________\n",
      "res2a_branch2b (Conv2D)         (None, 56, 56, 64)   36928       activation_492[0][0]             \n",
      "__________________________________________________________________________________________________\n",
      "bn2a_branch2b (BatchNormalizati (None, 56, 56, 64)   256         res2a_branch2b[0][0]             \n",
      "__________________________________________________________________________________________________\n",
      "activation_493 (Activation)     (None, 56, 56, 64)   0           bn2a_branch2b[0][0]              \n",
      "__________________________________________________________________________________________________\n",
      "res2a_branch2c (Conv2D)         (None, 56, 56, 256)  16640       activation_493[0][0]             \n",
      "__________________________________________________________________________________________________\n",
      "res2a_branch1 (Conv2D)          (None, 56, 56, 256)  16640       max_pooling2d_14[0][0]           \n",
      "__________________________________________________________________________________________________\n",
      "bn2a_branch2c (BatchNormalizati (None, 56, 56, 256)  1024        res2a_branch2c[0][0]             \n",
      "__________________________________________________________________________________________________\n",
      "bn2a_branch1 (BatchNormalizatio (None, 56, 56, 256)  1024        res2a_branch1[0][0]              \n",
      "__________________________________________________________________________________________________\n",
      "add_161 (Add)                   (None, 56, 56, 256)  0           bn2a_branch2c[0][0]              \n",
      "                                                                 bn2a_branch1[0][0]               \n",
      "__________________________________________________________________________________________________\n",
      "activation_494 (Activation)     (None, 56, 56, 256)  0           add_161[0][0]                    \n",
      "__________________________________________________________________________________________________\n",
      "res2b_branch2a (Conv2D)         (None, 56, 56, 64)   16448       activation_494[0][0]             \n",
      "__________________________________________________________________________________________________\n",
      "bn2b_branch2a (BatchNormalizati (None, 56, 56, 64)   256         res2b_branch2a[0][0]             \n",
      "__________________________________________________________________________________________________\n",
      "activation_495 (Activation)     (None, 56, 56, 64)   0           bn2b_branch2a[0][0]              \n",
      "__________________________________________________________________________________________________\n",
      "res2b_branch2b (Conv2D)         (None, 56, 56, 64)   36928       activation_495[0][0]             \n",
      "__________________________________________________________________________________________________\n",
      "bn2b_branch2b (BatchNormalizati (None, 56, 56, 64)   256         res2b_branch2b[0][0]             \n",
      "__________________________________________________________________________________________________\n",
      "activation_496 (Activation)     (None, 56, 56, 64)   0           bn2b_branch2b[0][0]              \n",
      "__________________________________________________________________________________________________\n",
      "res2b_branch2c (Conv2D)         (None, 56, 56, 256)  16640       activation_496[0][0]             \n",
      "__________________________________________________________________________________________________\n",
      "bn2b_branch2c (BatchNormalizati (None, 56, 56, 256)  1024        res2b_branch2c[0][0]             \n",
      "__________________________________________________________________________________________________\n",
      "add_162 (Add)                   (None, 56, 56, 256)  0           bn2b_branch2c[0][0]              \n",
      "                                                                 activation_494[0][0]             \n",
      "__________________________________________________________________________________________________\n",
      "activation_497 (Activation)     (None, 56, 56, 256)  0           add_162[0][0]                    \n",
      "__________________________________________________________________________________________________\n",
      "res2c_branch2a (Conv2D)         (None, 56, 56, 64)   16448       activation_497[0][0]             \n",
      "__________________________________________________________________________________________________\n",
      "bn2c_branch2a (BatchNormalizati (None, 56, 56, 64)   256         res2c_branch2a[0][0]             \n",
      "__________________________________________________________________________________________________\n",
      "activation_498 (Activation)     (None, 56, 56, 64)   0           bn2c_branch2a[0][0]              \n",
      "__________________________________________________________________________________________________\n",
      "res2c_branch2b (Conv2D)         (None, 56, 56, 64)   36928       activation_498[0][0]             \n",
      "__________________________________________________________________________________________________\n",
      "bn2c_branch2b (BatchNormalizati (None, 56, 56, 64)   256         res2c_branch2b[0][0]             \n",
      "__________________________________________________________________________________________________\n",
      "activation_499 (Activation)     (None, 56, 56, 64)   0           bn2c_branch2b[0][0]              \n",
      "__________________________________________________________________________________________________\n",
      "res2c_branch2c (Conv2D)         (None, 56, 56, 256)  16640       activation_499[0][0]             \n",
      "__________________________________________________________________________________________________\n",
      "bn2c_branch2c (BatchNormalizati (None, 56, 56, 256)  1024        res2c_branch2c[0][0]             \n",
      "__________________________________________________________________________________________________\n",
      "add_163 (Add)                   (None, 56, 56, 256)  0           bn2c_branch2c[0][0]              \n",
      "                                                                 activation_497[0][0]             \n",
      "__________________________________________________________________________________________________\n"
     ]
    },
    {
     "name": "stdout",
     "output_type": "stream",
     "text": [
      "activation_500 (Activation)     (None, 56, 56, 256)  0           add_163[0][0]                    \n",
      "__________________________________________________________________________________________________\n",
      "res3a_branch2a (Conv2D)         (None, 28, 28, 128)  32896       activation_500[0][0]             \n",
      "__________________________________________________________________________________________________\n",
      "bn3a_branch2a (BatchNormalizati (None, 28, 28, 128)  512         res3a_branch2a[0][0]             \n",
      "__________________________________________________________________________________________________\n",
      "activation_501 (Activation)     (None, 28, 28, 128)  0           bn3a_branch2a[0][0]              \n",
      "__________________________________________________________________________________________________\n",
      "res3a_branch2b (Conv2D)         (None, 28, 28, 128)  147584      activation_501[0][0]             \n",
      "__________________________________________________________________________________________________\n",
      "bn3a_branch2b (BatchNormalizati (None, 28, 28, 128)  512         res3a_branch2b[0][0]             \n",
      "__________________________________________________________________________________________________\n",
      "activation_502 (Activation)     (None, 28, 28, 128)  0           bn3a_branch2b[0][0]              \n",
      "__________________________________________________________________________________________________\n",
      "res3a_branch2c (Conv2D)         (None, 28, 28, 512)  66048       activation_502[0][0]             \n",
      "__________________________________________________________________________________________________\n",
      "res3a_branch1 (Conv2D)          (None, 28, 28, 512)  131584      activation_500[0][0]             \n",
      "__________________________________________________________________________________________________\n",
      "bn3a_branch2c (BatchNormalizati (None, 28, 28, 512)  2048        res3a_branch2c[0][0]             \n",
      "__________________________________________________________________________________________________\n",
      "bn3a_branch1 (BatchNormalizatio (None, 28, 28, 512)  2048        res3a_branch1[0][0]              \n",
      "__________________________________________________________________________________________________\n",
      "add_164 (Add)                   (None, 28, 28, 512)  0           bn3a_branch2c[0][0]              \n",
      "                                                                 bn3a_branch1[0][0]               \n",
      "__________________________________________________________________________________________________\n",
      "activation_503 (Activation)     (None, 28, 28, 512)  0           add_164[0][0]                    \n",
      "__________________________________________________________________________________________________\n",
      "res3b_branch2a (Conv2D)         (None, 28, 28, 128)  65664       activation_503[0][0]             \n",
      "__________________________________________________________________________________________________\n",
      "bn3b_branch2a (BatchNormalizati (None, 28, 28, 128)  512         res3b_branch2a[0][0]             \n",
      "__________________________________________________________________________________________________\n",
      "activation_504 (Activation)     (None, 28, 28, 128)  0           bn3b_branch2a[0][0]              \n",
      "__________________________________________________________________________________________________\n",
      "res3b_branch2b (Conv2D)         (None, 28, 28, 128)  147584      activation_504[0][0]             \n",
      "__________________________________________________________________________________________________\n",
      "bn3b_branch2b (BatchNormalizati (None, 28, 28, 128)  512         res3b_branch2b[0][0]             \n",
      "__________________________________________________________________________________________________\n",
      "activation_505 (Activation)     (None, 28, 28, 128)  0           bn3b_branch2b[0][0]              \n",
      "__________________________________________________________________________________________________\n",
      "res3b_branch2c (Conv2D)         (None, 28, 28, 512)  66048       activation_505[0][0]             \n",
      "__________________________________________________________________________________________________\n",
      "bn3b_branch2c (BatchNormalizati (None, 28, 28, 512)  2048        res3b_branch2c[0][0]             \n",
      "__________________________________________________________________________________________________\n",
      "add_165 (Add)                   (None, 28, 28, 512)  0           bn3b_branch2c[0][0]              \n",
      "                                                                 activation_503[0][0]             \n",
      "__________________________________________________________________________________________________\n",
      "activation_506 (Activation)     (None, 28, 28, 512)  0           add_165[0][0]                    \n",
      "__________________________________________________________________________________________________\n",
      "res3c_branch2a (Conv2D)         (None, 28, 28, 128)  65664       activation_506[0][0]             \n",
      "__________________________________________________________________________________________________\n",
      "bn3c_branch2a (BatchNormalizati (None, 28, 28, 128)  512         res3c_branch2a[0][0]             \n",
      "__________________________________________________________________________________________________\n",
      "activation_507 (Activation)     (None, 28, 28, 128)  0           bn3c_branch2a[0][0]              \n",
      "__________________________________________________________________________________________________\n",
      "res3c_branch2b (Conv2D)         (None, 28, 28, 128)  147584      activation_507[0][0]             \n",
      "__________________________________________________________________________________________________\n",
      "bn3c_branch2b (BatchNormalizati (None, 28, 28, 128)  512         res3c_branch2b[0][0]             \n",
      "__________________________________________________________________________________________________\n",
      "activation_508 (Activation)     (None, 28, 28, 128)  0           bn3c_branch2b[0][0]              \n",
      "__________________________________________________________________________________________________\n",
      "res3c_branch2c (Conv2D)         (None, 28, 28, 512)  66048       activation_508[0][0]             \n",
      "__________________________________________________________________________________________________\n",
      "bn3c_branch2c (BatchNormalizati (None, 28, 28, 512)  2048        res3c_branch2c[0][0]             \n",
      "__________________________________________________________________________________________________\n",
      "add_166 (Add)                   (None, 28, 28, 512)  0           bn3c_branch2c[0][0]              \n",
      "                                                                 activation_506[0][0]             \n",
      "__________________________________________________________________________________________________\n",
      "activation_509 (Activation)     (None, 28, 28, 512)  0           add_166[0][0]                    \n",
      "__________________________________________________________________________________________________\n",
      "res3d_branch2a (Conv2D)         (None, 28, 28, 128)  65664       activation_509[0][0]             \n",
      "__________________________________________________________________________________________________\n",
      "bn3d_branch2a (BatchNormalizati (None, 28, 28, 128)  512         res3d_branch2a[0][0]             \n",
      "__________________________________________________________________________________________________\n",
      "activation_510 (Activation)     (None, 28, 28, 128)  0           bn3d_branch2a[0][0]              \n",
      "__________________________________________________________________________________________________\n",
      "res3d_branch2b (Conv2D)         (None, 28, 28, 128)  147584      activation_510[0][0]             \n",
      "__________________________________________________________________________________________________\n",
      "bn3d_branch2b (BatchNormalizati (None, 28, 28, 128)  512         res3d_branch2b[0][0]             \n",
      "__________________________________________________________________________________________________\n",
      "activation_511 (Activation)     (None, 28, 28, 128)  0           bn3d_branch2b[0][0]              \n",
      "__________________________________________________________________________________________________\n",
      "res3d_branch2c (Conv2D)         (None, 28, 28, 512)  66048       activation_511[0][0]             \n"
     ]
    },
    {
     "name": "stdout",
     "output_type": "stream",
     "text": [
      "__________________________________________________________________________________________________\n",
      "bn3d_branch2c (BatchNormalizati (None, 28, 28, 512)  2048        res3d_branch2c[0][0]             \n",
      "__________________________________________________________________________________________________\n",
      "add_167 (Add)                   (None, 28, 28, 512)  0           bn3d_branch2c[0][0]              \n",
      "                                                                 activation_509[0][0]             \n",
      "__________________________________________________________________________________________________\n",
      "activation_512 (Activation)     (None, 28, 28, 512)  0           add_167[0][0]                    \n",
      "__________________________________________________________________________________________________\n",
      "res4a_branch2a (Conv2D)         (None, 14, 14, 256)  131328      activation_512[0][0]             \n",
      "__________________________________________________________________________________________________\n",
      "bn4a_branch2a (BatchNormalizati (None, 14, 14, 256)  1024        res4a_branch2a[0][0]             \n",
      "__________________________________________________________________________________________________\n",
      "activation_513 (Activation)     (None, 14, 14, 256)  0           bn4a_branch2a[0][0]              \n",
      "__________________________________________________________________________________________________\n",
      "res4a_branch2b (Conv2D)         (None, 14, 14, 256)  590080      activation_513[0][0]             \n",
      "__________________________________________________________________________________________________\n",
      "bn4a_branch2b (BatchNormalizati (None, 14, 14, 256)  1024        res4a_branch2b[0][0]             \n",
      "__________________________________________________________________________________________________\n",
      "activation_514 (Activation)     (None, 14, 14, 256)  0           bn4a_branch2b[0][0]              \n",
      "__________________________________________________________________________________________________\n",
      "res4a_branch2c (Conv2D)         (None, 14, 14, 1024) 263168      activation_514[0][0]             \n",
      "__________________________________________________________________________________________________\n",
      "res4a_branch1 (Conv2D)          (None, 14, 14, 1024) 525312      activation_512[0][0]             \n",
      "__________________________________________________________________________________________________\n",
      "bn4a_branch2c (BatchNormalizati (None, 14, 14, 1024) 4096        res4a_branch2c[0][0]             \n",
      "__________________________________________________________________________________________________\n",
      "bn4a_branch1 (BatchNormalizatio (None, 14, 14, 1024) 4096        res4a_branch1[0][0]              \n",
      "__________________________________________________________________________________________________\n",
      "add_168 (Add)                   (None, 14, 14, 1024) 0           bn4a_branch2c[0][0]              \n",
      "                                                                 bn4a_branch1[0][0]               \n",
      "__________________________________________________________________________________________________\n",
      "activation_515 (Activation)     (None, 14, 14, 1024) 0           add_168[0][0]                    \n",
      "__________________________________________________________________________________________________\n",
      "res4b_branch2a (Conv2D)         (None, 14, 14, 256)  262400      activation_515[0][0]             \n",
      "__________________________________________________________________________________________________\n",
      "bn4b_branch2a (BatchNormalizati (None, 14, 14, 256)  1024        res4b_branch2a[0][0]             \n",
      "__________________________________________________________________________________________________\n",
      "activation_516 (Activation)     (None, 14, 14, 256)  0           bn4b_branch2a[0][0]              \n",
      "__________________________________________________________________________________________________\n",
      "res4b_branch2b (Conv2D)         (None, 14, 14, 256)  590080      activation_516[0][0]             \n",
      "__________________________________________________________________________________________________\n",
      "bn4b_branch2b (BatchNormalizati (None, 14, 14, 256)  1024        res4b_branch2b[0][0]             \n",
      "__________________________________________________________________________________________________\n",
      "activation_517 (Activation)     (None, 14, 14, 256)  0           bn4b_branch2b[0][0]              \n",
      "__________________________________________________________________________________________________\n",
      "res4b_branch2c (Conv2D)         (None, 14, 14, 1024) 263168      activation_517[0][0]             \n",
      "__________________________________________________________________________________________________\n",
      "bn4b_branch2c (BatchNormalizati (None, 14, 14, 1024) 4096        res4b_branch2c[0][0]             \n",
      "__________________________________________________________________________________________________\n",
      "add_169 (Add)                   (None, 14, 14, 1024) 0           bn4b_branch2c[0][0]              \n",
      "                                                                 activation_515[0][0]             \n",
      "__________________________________________________________________________________________________\n",
      "activation_518 (Activation)     (None, 14, 14, 1024) 0           add_169[0][0]                    \n",
      "__________________________________________________________________________________________________\n",
      "res4c_branch2a (Conv2D)         (None, 14, 14, 256)  262400      activation_518[0][0]             \n",
      "__________________________________________________________________________________________________\n",
      "bn4c_branch2a (BatchNormalizati (None, 14, 14, 256)  1024        res4c_branch2a[0][0]             \n",
      "__________________________________________________________________________________________________\n",
      "activation_519 (Activation)     (None, 14, 14, 256)  0           bn4c_branch2a[0][0]              \n",
      "__________________________________________________________________________________________________\n",
      "res4c_branch2b (Conv2D)         (None, 14, 14, 256)  590080      activation_519[0][0]             \n",
      "__________________________________________________________________________________________________\n",
      "bn4c_branch2b (BatchNormalizati (None, 14, 14, 256)  1024        res4c_branch2b[0][0]             \n",
      "__________________________________________________________________________________________________\n",
      "activation_520 (Activation)     (None, 14, 14, 256)  0           bn4c_branch2b[0][0]              \n",
      "__________________________________________________________________________________________________\n",
      "res4c_branch2c (Conv2D)         (None, 14, 14, 1024) 263168      activation_520[0][0]             \n",
      "__________________________________________________________________________________________________\n",
      "bn4c_branch2c (BatchNormalizati (None, 14, 14, 1024) 4096        res4c_branch2c[0][0]             \n",
      "__________________________________________________________________________________________________\n",
      "add_170 (Add)                   (None, 14, 14, 1024) 0           bn4c_branch2c[0][0]              \n",
      "                                                                 activation_518[0][0]             \n",
      "__________________________________________________________________________________________________\n",
      "activation_521 (Activation)     (None, 14, 14, 1024) 0           add_170[0][0]                    \n",
      "__________________________________________________________________________________________________\n",
      "res4d_branch2a (Conv2D)         (None, 14, 14, 256)  262400      activation_521[0][0]             \n",
      "__________________________________________________________________________________________________\n",
      "bn4d_branch2a (BatchNormalizati (None, 14, 14, 256)  1024        res4d_branch2a[0][0]             \n",
      "__________________________________________________________________________________________________\n",
      "activation_522 (Activation)     (None, 14, 14, 256)  0           bn4d_branch2a[0][0]              \n",
      "__________________________________________________________________________________________________\n",
      "res4d_branch2b (Conv2D)         (None, 14, 14, 256)  590080      activation_522[0][0]             \n"
     ]
    },
    {
     "name": "stdout",
     "output_type": "stream",
     "text": [
      "__________________________________________________________________________________________________\n",
      "bn4d_branch2b (BatchNormalizati (None, 14, 14, 256)  1024        res4d_branch2b[0][0]             \n",
      "__________________________________________________________________________________________________\n",
      "activation_523 (Activation)     (None, 14, 14, 256)  0           bn4d_branch2b[0][0]              \n",
      "__________________________________________________________________________________________________\n",
      "res4d_branch2c (Conv2D)         (None, 14, 14, 1024) 263168      activation_523[0][0]             \n",
      "__________________________________________________________________________________________________\n",
      "bn4d_branch2c (BatchNormalizati (None, 14, 14, 1024) 4096        res4d_branch2c[0][0]             \n",
      "__________________________________________________________________________________________________\n",
      "add_171 (Add)                   (None, 14, 14, 1024) 0           bn4d_branch2c[0][0]              \n",
      "                                                                 activation_521[0][0]             \n",
      "__________________________________________________________________________________________________\n",
      "activation_524 (Activation)     (None, 14, 14, 1024) 0           add_171[0][0]                    \n",
      "__________________________________________________________________________________________________\n",
      "res4e_branch2a (Conv2D)         (None, 14, 14, 256)  262400      activation_524[0][0]             \n",
      "__________________________________________________________________________________________________\n",
      "bn4e_branch2a (BatchNormalizati (None, 14, 14, 256)  1024        res4e_branch2a[0][0]             \n",
      "__________________________________________________________________________________________________\n",
      "activation_525 (Activation)     (None, 14, 14, 256)  0           bn4e_branch2a[0][0]              \n",
      "__________________________________________________________________________________________________\n",
      "res4e_branch2b (Conv2D)         (None, 14, 14, 256)  590080      activation_525[0][0]             \n",
      "__________________________________________________________________________________________________\n",
      "bn4e_branch2b (BatchNormalizati (None, 14, 14, 256)  1024        res4e_branch2b[0][0]             \n",
      "__________________________________________________________________________________________________\n",
      "activation_526 (Activation)     (None, 14, 14, 256)  0           bn4e_branch2b[0][0]              \n",
      "__________________________________________________________________________________________________\n",
      "res4e_branch2c (Conv2D)         (None, 14, 14, 1024) 263168      activation_526[0][0]             \n",
      "__________________________________________________________________________________________________\n",
      "bn4e_branch2c (BatchNormalizati (None, 14, 14, 1024) 4096        res4e_branch2c[0][0]             \n",
      "__________________________________________________________________________________________________\n",
      "add_172 (Add)                   (None, 14, 14, 1024) 0           bn4e_branch2c[0][0]              \n",
      "                                                                 activation_524[0][0]             \n",
      "__________________________________________________________________________________________________\n",
      "activation_527 (Activation)     (None, 14, 14, 1024) 0           add_172[0][0]                    \n",
      "__________________________________________________________________________________________________\n",
      "res4f_branch2a (Conv2D)         (None, 14, 14, 256)  262400      activation_527[0][0]             \n",
      "__________________________________________________________________________________________________\n",
      "bn4f_branch2a (BatchNormalizati (None, 14, 14, 256)  1024        res4f_branch2a[0][0]             \n",
      "__________________________________________________________________________________________________\n",
      "activation_528 (Activation)     (None, 14, 14, 256)  0           bn4f_branch2a[0][0]              \n",
      "__________________________________________________________________________________________________\n",
      "res4f_branch2b (Conv2D)         (None, 14, 14, 256)  590080      activation_528[0][0]             \n",
      "__________________________________________________________________________________________________\n",
      "bn4f_branch2b (BatchNormalizati (None, 14, 14, 256)  1024        res4f_branch2b[0][0]             \n",
      "__________________________________________________________________________________________________\n",
      "activation_529 (Activation)     (None, 14, 14, 256)  0           bn4f_branch2b[0][0]              \n",
      "__________________________________________________________________________________________________\n",
      "res4f_branch2c (Conv2D)         (None, 14, 14, 1024) 263168      activation_529[0][0]             \n",
      "__________________________________________________________________________________________________\n",
      "bn4f_branch2c (BatchNormalizati (None, 14, 14, 1024) 4096        res4f_branch2c[0][0]             \n",
      "__________________________________________________________________________________________________\n",
      "add_173 (Add)                   (None, 14, 14, 1024) 0           bn4f_branch2c[0][0]              \n",
      "                                                                 activation_527[0][0]             \n",
      "__________________________________________________________________________________________________\n",
      "activation_530 (Activation)     (None, 14, 14, 1024) 0           add_173[0][0]                    \n",
      "__________________________________________________________________________________________________\n",
      "res5a_branch2a (Conv2D)         (None, 7, 7, 512)    524800      activation_530[0][0]             \n",
      "__________________________________________________________________________________________________\n",
      "bn5a_branch2a (BatchNormalizati (None, 7, 7, 512)    2048        res5a_branch2a[0][0]             \n",
      "__________________________________________________________________________________________________\n",
      "activation_531 (Activation)     (None, 7, 7, 512)    0           bn5a_branch2a[0][0]              \n",
      "__________________________________________________________________________________________________\n",
      "res5a_branch2b (Conv2D)         (None, 7, 7, 512)    2359808     activation_531[0][0]             \n",
      "__________________________________________________________________________________________________\n",
      "bn5a_branch2b (BatchNormalizati (None, 7, 7, 512)    2048        res5a_branch2b[0][0]             \n",
      "__________________________________________________________________________________________________\n",
      "activation_532 (Activation)     (None, 7, 7, 512)    0           bn5a_branch2b[0][0]              \n",
      "__________________________________________________________________________________________________\n",
      "res5a_branch2c (Conv2D)         (None, 7, 7, 2048)   1050624     activation_532[0][0]             \n",
      "__________________________________________________________________________________________________\n",
      "res5a_branch1 (Conv2D)          (None, 7, 7, 2048)   2099200     activation_530[0][0]             \n",
      "__________________________________________________________________________________________________\n",
      "bn5a_branch2c (BatchNormalizati (None, 7, 7, 2048)   8192        res5a_branch2c[0][0]             \n",
      "__________________________________________________________________________________________________\n",
      "bn5a_branch1 (BatchNormalizatio (None, 7, 7, 2048)   8192        res5a_branch1[0][0]              \n",
      "__________________________________________________________________________________________________\n",
      "add_174 (Add)                   (None, 7, 7, 2048)   0           bn5a_branch2c[0][0]              \n",
      "                                                                 bn5a_branch1[0][0]               \n",
      "__________________________________________________________________________________________________\n",
      "activation_533 (Activation)     (None, 7, 7, 2048)   0           add_174[0][0]                    \n",
      "__________________________________________________________________________________________________\n",
      "res5b_branch2a (Conv2D)         (None, 7, 7, 512)    1049088     activation_533[0][0]             \n"
     ]
    },
    {
     "name": "stdout",
     "output_type": "stream",
     "text": [
      "__________________________________________________________________________________________________\n",
      "bn5b_branch2a (BatchNormalizati (None, 7, 7, 512)    2048        res5b_branch2a[0][0]             \n",
      "__________________________________________________________________________________________________\n",
      "activation_534 (Activation)     (None, 7, 7, 512)    0           bn5b_branch2a[0][0]              \n",
      "__________________________________________________________________________________________________\n",
      "res5b_branch2b (Conv2D)         (None, 7, 7, 512)    2359808     activation_534[0][0]             \n",
      "__________________________________________________________________________________________________\n",
      "bn5b_branch2b (BatchNormalizati (None, 7, 7, 512)    2048        res5b_branch2b[0][0]             \n",
      "__________________________________________________________________________________________________\n",
      "activation_535 (Activation)     (None, 7, 7, 512)    0           bn5b_branch2b[0][0]              \n",
      "__________________________________________________________________________________________________\n",
      "res5b_branch2c (Conv2D)         (None, 7, 7, 2048)   1050624     activation_535[0][0]             \n",
      "__________________________________________________________________________________________________\n",
      "bn5b_branch2c (BatchNormalizati (None, 7, 7, 2048)   8192        res5b_branch2c[0][0]             \n",
      "__________________________________________________________________________________________________\n",
      "add_175 (Add)                   (None, 7, 7, 2048)   0           bn5b_branch2c[0][0]              \n",
      "                                                                 activation_533[0][0]             \n",
      "__________________________________________________________________________________________________\n",
      "activation_536 (Activation)     (None, 7, 7, 2048)   0           add_175[0][0]                    \n",
      "__________________________________________________________________________________________________\n",
      "res5c_branch2a (Conv2D)         (None, 7, 7, 512)    1049088     activation_536[0][0]             \n",
      "__________________________________________________________________________________________________\n",
      "bn5c_branch2a (BatchNormalizati (None, 7, 7, 512)    2048        res5c_branch2a[0][0]             \n",
      "__________________________________________________________________________________________________\n",
      "activation_537 (Activation)     (None, 7, 7, 512)    0           bn5c_branch2a[0][0]              \n",
      "__________________________________________________________________________________________________\n",
      "res5c_branch2b (Conv2D)         (None, 7, 7, 512)    2359808     activation_537[0][0]             \n",
      "__________________________________________________________________________________________________\n",
      "bn5c_branch2b (BatchNormalizati (None, 7, 7, 512)    2048        res5c_branch2b[0][0]             \n",
      "__________________________________________________________________________________________________\n",
      "activation_538 (Activation)     (None, 7, 7, 512)    0           bn5c_branch2b[0][0]              \n",
      "__________________________________________________________________________________________________\n",
      "res5c_branch2c (Conv2D)         (None, 7, 7, 2048)   1050624     activation_538[0][0]             \n",
      "__________________________________________________________________________________________________\n",
      "bn5c_branch2c (BatchNormalizati (None, 7, 7, 2048)   8192        res5c_branch2c[0][0]             \n",
      "__________________________________________________________________________________________________\n",
      "add_176 (Add)                   (None, 7, 7, 2048)   0           bn5c_branch2c[0][0]              \n",
      "                                                                 activation_536[0][0]             \n",
      "__________________________________________________________________________________________________\n",
      "activation_539 (Activation)     (None, 7, 7, 2048)   0           add_176[0][0]                    \n",
      "__________________________________________________________________________________________________\n",
      "global_average_pooling2d_8 (Glo (None, 2048)         0           activation_539[0][0]             \n",
      "__________________________________________________________________________________________________\n",
      "fc-1 (Dense)                    (None, 512)          1049088     global_average_pooling2d_8[0][0] \n",
      "__________________________________________________________________________________________________\n",
      "dropout_13 (Dropout)            (None, 512)          0           fc-1[0][0]                       \n",
      "__________________________________________________________________________________________________\n",
      "fc-2 (Dense)                    (None, 256)          131328      dropout_13[0][0]                 \n",
      "__________________________________________________________________________________________________\n",
      "dropout_14 (Dropout)            (None, 256)          0           fc-2[0][0]                       \n",
      "__________________________________________________________________________________________________\n",
      "output_layer (Dense)            (None, 1)            257         dropout_14[0][0]                 \n",
      "==================================================================================================\n",
      "Total params: 24,768,385\n",
      "Trainable params: 4,596,225\n",
      "Non-trainable params: 20,172,160\n",
      "__________________________________________________________________________________________________\n"
     ]
    }
   ],
   "source": [
    "#image_input = Input(shape=(224, 224, 3))\n",
    "#model = resnet50(include_top=True, weights=wt, input_tensor=input_image)\n",
    "#model.summary()\n",
    "x = resnet50.output\n",
    "# add fully-connected & dropout layers\n",
    "x = Dense(512, activation='relu',name='fc-1')(x)\n",
    "x = Dropout(0.5)(x)\n",
    "x = Dense(256, activation='relu',name='fc-2')(x)\n",
    "x = Dropout(0.5)(x)\n",
    "\n",
    "out = Dense(1, activation='sigmoid',name='output_layer')(x)\n",
    "\n",
    "# this is the model we will train\n",
    "model = Model(inputs=resnet50.input, outputs=out)\n",
    "\n",
    "model.summary()\n",
    "\n"
   ]
  },
  {
   "cell_type": "code",
   "execution_count": 189,
   "metadata": {},
   "outputs": [],
   "source": [
    "from keras import optimizers\n",
    "sgd = optimizers.SGD(lr=0.0001,decay = 1e-6,momentum=0.9,nesterov=True)\n",
    "adam = optimizers.Adam(lr=0.001,decay = 1e-6)\n"
   ]
  },
  {
   "cell_type": "code",
   "execution_count": 193,
   "metadata": {},
   "outputs": [
    {
     "name": "stdout",
     "output_type": "stream",
     "text": [
      "WARNING:tensorflow:`period` argument is deprecated. Please use `save_freq` to specify the frequency in number of samples seen.\n"
     ]
    }
   ],
   "source": [
    "# Early Callback and Check Point\n",
    "from tensorflow.keras.callbacks import ModelCheckpoint, EarlyStopping, ReduceLROnPlateau\n",
    "checkpoint = ModelCheckpoint(\"model-{loss:.2f}.h5\", monitor=\"loss\", verbose=1, save_best_only=True,\n",
    "                             save_weights_only=True, mode=\"min\", period=1)\n",
    "stop = EarlyStopping(monitor=\"loss\", patience=5, mode=\"min\")\n",
    "#reduce_lr = ReduceLROnPlateau(monitor=\"loss\", factor=0.2, patience=5, min_lr=1e-6, verbose=1, mode=\"min\")"
   ]
  },
  {
   "cell_type": "code",
   "execution_count": 182,
   "metadata": {},
   "outputs": [],
   "source": [
    "from tensorflow.keras.losses import binary_crossentropy\n",
    "from tensorflow.keras.backend import log, epsilon\n",
    "def loss(y_true, y_pred):\n",
    "    return binary_crossentropy(y_true, y_pred) - log(dice_coefficient(y_true, y_pred) + epsilon())"
   ]
  },
  {
   "cell_type": "code",
   "execution_count": 183,
   "metadata": {},
   "outputs": [],
   "source": [
    "def dice_coefficient(y_true, y_pred,smooth=1):\n",
    "    #### Add your code here ####\n",
    "    y_true_f = K.flatten(y_true)\n",
    "    y_pred_f = K.flatten(y_pred)\n",
    "    intersection = K.sum(y_true_f * y_pred_f)\n",
    "    return (2. * intersection + smooth) / (K.sum(y_true_f) + K.sum(y_pred_f) + smooth)"
   ]
  },
  {
   "cell_type": "code",
   "execution_count": 205,
   "metadata": {},
   "outputs": [],
   "source": [
    "from keras import backend as K\n",
    "#model.load_weights('resnet50_weights_tf_dim_ordering_tf_kernels.h5')\n",
    "#model.compile(loss=loss, optimizer=\"adam\")\n",
    "model.compile(optimizer=sgd,loss='binary_crossentropy',metrics=['accuracy'])\n"
   ]
  },
  {
   "cell_type": "code",
   "execution_count": 56,
   "metadata": {},
   "outputs": [],
   "source": [
    "'''\n",
    "import numpy as np\n",
    "import glob\n",
    "import cv2\n",
    "X_data = []\n",
    "files = glob.glob (\"./train_img1_jpg/*.jpg\")\n",
    "for i in range(len(files)-1):\n",
    "    #print(myFile)\n",
    "        img = cv2.imread (files[i])\n",
    "        img = cv2.resize(img,(512,512), interpolation = cv2.INTER_LANCZOS4)\n",
    "    #print(img)\n",
    "    #cv2.imshow('image',img)\n",
    "        X_data.append(img)\n",
    "        if i == 1000:\n",
    "            break\n",
    "'''"
   ]
  },
  {
   "cell_type": "code",
   "execution_count": 66,
   "metadata": {},
   "outputs": [],
   "source": [
    "'''\n",
    "for i in range(5001,len(files)-1):\n",
    "    #print(myFile)\n",
    "        img = cv2.imread (files[i])\n",
    "        img = cv2.resize(img,(512,512), interpolation = cv2.INTER_LANCZOS4)\n",
    "    #print(img)\n",
    "    #cv2.imshow('image',img)\n",
    "        X_data.append(img)\n",
    "        if i == 9999:\n",
    "            break\n",
    "            '''"
   ]
  },
  {
   "cell_type": "code",
   "execution_count": null,
   "metadata": {},
   "outputs": [],
   "source": [
    "fit_model = model.fit(x_trn[:500],y_train[:500],\n",
    "                    epochs=1,batch_size=1,\n",
    "                    callbacks=[checkpoint, stop],\n",
    "                    verbose=1)"
   ]
  },
  {
   "cell_type": "code",
   "execution_count": 216,
   "metadata": {},
   "outputs": [],
   "source": [
    "y_pred = model.predict(x_tst)\n"
   ]
  },
  {
   "cell_type": "code",
   "execution_count": 131,
   "metadata": {},
   "outputs": [],
   "source": [
    "x_tr = np.array(X_train[:5000])\n",
    "x_trn = x_tr.reshape(x_tr.shape[0], 224, 224, 3)\n"
   ]
  },
  {
   "cell_type": "code",
   "execution_count": null,
   "metadata": {},
   "outputs": [],
   "source": [
    "model.fit_generator(batches, steps_per_epoch=num_train_steps, epochs=1000, callbacks=[early_stopping, checkpointer], validation_data=val_batches, validation_steps=num_valid_steps)\n",
    "\n",
    "model.save('resnet50_final.h5')"
   ]
  },
  {
   "cell_type": "code",
   "execution_count": null,
   "metadata": {},
   "outputs": [],
   "source": [
    "fit_model = model.fit(x_trn,y_train[:5000],\n",
    "                    epochs=10,batch_size=64,\n",
    "                    callbacks=[checkpoint, reduce_lr, stop],\n",
    "                    verbose=1)\n",
    "model.save('model')"
   ]
  },
  {
   "cell_type": "code",
   "execution_count": 222,
   "metadata": {},
   "outputs": [
    {
     "data": {
      "text/plain": [
       "numpy.ndarray"
      ]
     },
     "execution_count": 222,
     "metadata": {},
     "output_type": "execute_result"
    }
   ],
   "source": [
    "type(y_pred)"
   ]
  },
  {
   "cell_type": "code",
   "execution_count": 225,
   "metadata": {},
   "outputs": [],
   "source": [
    "y_tst = np.float32(y_test[:50])"
   ]
  },
  {
   "cell_type": "code",
   "execution_count": 227,
   "metadata": {},
   "outputs": [
    {
     "data": {
      "text/plain": [
       "numpy.ndarray"
      ]
     },
     "execution_count": 227,
     "metadata": {},
     "output_type": "execute_result"
    }
   ],
   "source": [
    "type(y_tst)"
   ]
  },
  {
   "cell_type": "code",
   "execution_count": 239,
   "metadata": {},
   "outputs": [],
   "source": [
    "y_tst = np.reshape(y_tst,(50,1))"
   ]
  },
  {
   "cell_type": "code",
   "execution_count": 242,
   "metadata": {},
   "outputs": [
    {
     "data": {
      "text/plain": [
       "((50, 1), (50, 1))"
      ]
     },
     "execution_count": 242,
     "metadata": {},
     "output_type": "execute_result"
    }
   ],
   "source": [
    "y_tst.shape,y_pred.shape\n"
   ]
  },
  {
   "cell_type": "code",
   "execution_count": 244,
   "metadata": {},
   "outputs": [
    {
     "name": "stdout",
     "output_type": "stream",
     "text": [
      "50/50 [==============================] - ETA: 14 - 38s 754ms/step\n"
     ]
    },
    {
     "data": {
      "text/plain": [
       "[0.5434434533119201, 0.8000000047683716]"
      ]
     },
     "execution_count": 244,
     "metadata": {},
     "output_type": "execute_result"
    }
   ],
   "source": [
    "model.evaluate(x_tst[:50],y_tst)"
   ]
  },
  {
   "cell_type": "code",
   "execution_count": null,
   "metadata": {},
   "outputs": [],
   "source": []
  }
 ],
 "metadata": {
  "kernelspec": {
   "display_name": "Python 3",
   "language": "python",
   "name": "python3"
  },
  "language_info": {
   "codemirror_mode": {
    "name": "ipython",
    "version": 3
   },
   "file_extension": ".py",
   "mimetype": "text/x-python",
   "name": "python",
   "nbconvert_exporter": "python",
   "pygments_lexer": "ipython3",
   "version": "3.7.3"
  }
 },
 "nbformat": 4,
 "nbformat_minor": 2
}
